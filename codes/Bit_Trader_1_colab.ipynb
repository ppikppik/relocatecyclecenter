{
  "nbformat": 4,
  "nbformat_minor": 0,
  "metadata": {
    "kernelspec": {
      "display_name": "Python 3",
      "language": "python",
      "name": "python3"
    },
    "language_info": {
      "codemirror_mode": {
        "name": "ipython",
        "version": 3
      },
      "file_extension": ".py",
      "mimetype": "text/x-python",
      "name": "python",
      "nbconvert_exporter": "python",
      "pygments_lexer": "ipython3",
      "version": "3.8.0"
    },
    "colab": {
      "name": "Bit_Trader_1.ipynb",
      "provenance": [],
      "toc_visible": true
    },
    "accelerator": "GPU"
  },
  "cells": [
    {
      "cell_type": "markdown",
      "metadata": {
        "id": "eh7MJr5VSTRX"
      },
      "source": [
        "# [DACON] 인공지능 비트 트레이더 경진대회"
      ]
    },
    {
      "cell_type": "markdown",
      "metadata": {
        "id": "d-5pO4FISTRc"
      },
      "source": [
        "> 비트코인이 포함된 10가지 종류의 암호화폐 가격을 예측하여 가장 높은 수익율을 갖는 모델을 만들어 주세요!</br>\n",
        "모든 참가자 분들은 총 10,000달러의 가상 자본금을 갖고있습니다.</br>\n",
        "총 529건의 투자기회에서 연속적으로 투자를 하고 최종 변동 금액을 예측하는 모델을 만드는 것을 목표로 합니다.</br>"
      ]
    },
    {
      "cell_type": "code",
      "metadata": {
        "id": "5mMNJRklSTRc"
      },
      "source": [
        ""
      ],
      "execution_count": 2,
      "outputs": []
    },
    {
      "cell_type": "markdown",
      "metadata": {
        "id": "pQwq-f4RSewY"
      },
      "source": [
        ""
      ]
    },
    {
      "cell_type": "markdown",
      "metadata": {
        "id": "jVNw0eKpSTRd"
      },
      "source": [
        "## 0. 데이터, 모듈 불러오기"
      ]
    },
    {
      "cell_type": "code",
      "metadata": {
        "colab": {
          "base_uri": "https://localhost:8080/"
        },
        "id": "3AaQVuNpSjel",
        "outputId": "6dd9dae2-9268-41a0-86cb-51d526237dd1"
      },
      "source": [
        "!pip install pingouin"
      ],
      "execution_count": 2,
      "outputs": [
        {
          "output_type": "stream",
          "text": [
            "Collecting pingouin\n",
            "\u001b[?25l  Downloading https://files.pythonhosted.org/packages/55/47/9d1845b179fcbac04f13056846e132e54cf62734d33892a370f98efa5ac1/pingouin-0.3.10.tar.gz (204kB)\n",
            "\r\u001b[K     |█▋                              | 10kB 20.9MB/s eta 0:00:01\r\u001b[K     |███▏                            | 20kB 16.7MB/s eta 0:00:01\r\u001b[K     |████▉                           | 30kB 13.9MB/s eta 0:00:01\r\u001b[K     |██████▍                         | 40kB 13.2MB/s eta 0:00:01\r\u001b[K     |████████                        | 51kB 9.1MB/s eta 0:00:01\r\u001b[K     |█████████▋                      | 61kB 9.4MB/s eta 0:00:01\r\u001b[K     |███████████▏                    | 71kB 9.7MB/s eta 0:00:01\r\u001b[K     |████████████▉                   | 81kB 10.8MB/s eta 0:00:01\r\u001b[K     |██████████████▍                 | 92kB 9.4MB/s eta 0:00:01\r\u001b[K     |████████████████                | 102kB 8.7MB/s eta 0:00:01\r\u001b[K     |█████████████████▋              | 112kB 8.7MB/s eta 0:00:01\r\u001b[K     |███████████████████▎            | 122kB 8.7MB/s eta 0:00:01\r\u001b[K     |████████████████████▉           | 133kB 8.7MB/s eta 0:00:01\r\u001b[K     |██████████████████████▍         | 143kB 8.7MB/s eta 0:00:01\r\u001b[K     |████████████████████████        | 153kB 8.7MB/s eta 0:00:01\r\u001b[K     |█████████████████████████▋      | 163kB 8.7MB/s eta 0:00:01\r\u001b[K     |███████████████████████████▎    | 174kB 8.7MB/s eta 0:00:01\r\u001b[K     |████████████████████████████▉   | 184kB 8.7MB/s eta 0:00:01\r\u001b[K     |██████████████████████████████▍ | 194kB 8.7MB/s eta 0:00:01\r\u001b[K     |████████████████████████████████| 204kB 8.7MB/s \n",
            "\u001b[?25hRequirement already satisfied: numpy>=1.15 in /usr/local/lib/python3.7/dist-packages (from pingouin) (1.19.5)\n",
            "Requirement already satisfied: scipy>=1.3 in /usr/local/lib/python3.7/dist-packages (from pingouin) (1.4.1)\n",
            "Requirement already satisfied: pandas>=0.24 in /usr/local/lib/python3.7/dist-packages (from pingouin) (1.1.5)\n",
            "Requirement already satisfied: matplotlib>=3.0.2 in /usr/local/lib/python3.7/dist-packages (from pingouin) (3.2.2)\n",
            "Requirement already satisfied: seaborn>=0.9.0 in /usr/local/lib/python3.7/dist-packages (from pingouin) (0.11.1)\n",
            "Requirement already satisfied: statsmodels>=0.10.0 in /usr/local/lib/python3.7/dist-packages (from pingouin) (0.10.2)\n",
            "Requirement already satisfied: scikit-learn in /usr/local/lib/python3.7/dist-packages (from pingouin) (0.22.2.post1)\n",
            "Collecting pandas_flavor>=0.1.2\n",
            "  Downloading https://files.pythonhosted.org/packages/9a/57/7fbcff4c0961ed190ac5fcb0bd8194152ee1ee6487edf64fdbae16e2bc4b/pandas_flavor-0.2.0-py2.py3-none-any.whl\n",
            "Collecting outdated\n",
            "  Downloading https://files.pythonhosted.org/packages/86/70/2f166266438a30e94140f00c99c0eac1c45807981052a1d4c123660e1323/outdated-0.2.0.tar.gz\n",
            "Requirement already satisfied: tabulate in /usr/local/lib/python3.7/dist-packages (from pingouin) (0.8.9)\n",
            "Requirement already satisfied: pytz>=2017.2 in /usr/local/lib/python3.7/dist-packages (from pandas>=0.24->pingouin) (2018.9)\n",
            "Requirement already satisfied: python-dateutil>=2.7.3 in /usr/local/lib/python3.7/dist-packages (from pandas>=0.24->pingouin) (2.8.1)\n",
            "Requirement already satisfied: kiwisolver>=1.0.1 in /usr/local/lib/python3.7/dist-packages (from matplotlib>=3.0.2->pingouin) (1.3.1)\n",
            "Requirement already satisfied: cycler>=0.10 in /usr/local/lib/python3.7/dist-packages (from matplotlib>=3.0.2->pingouin) (0.10.0)\n",
            "Requirement already satisfied: pyparsing!=2.0.4,!=2.1.2,!=2.1.6,>=2.0.1 in /usr/local/lib/python3.7/dist-packages (from matplotlib>=3.0.2->pingouin) (2.4.7)\n",
            "Requirement already satisfied: patsy>=0.4.0 in /usr/local/lib/python3.7/dist-packages (from statsmodels>=0.10.0->pingouin) (0.5.1)\n",
            "Requirement already satisfied: joblib>=0.11 in /usr/local/lib/python3.7/dist-packages (from scikit-learn->pingouin) (1.0.1)\n",
            "Requirement already satisfied: xarray in /usr/local/lib/python3.7/dist-packages (from pandas_flavor>=0.1.2->pingouin) (0.15.1)\n",
            "Collecting littleutils\n",
            "  Downloading https://files.pythonhosted.org/packages/4e/b1/bb4e06f010947d67349f863b6a2ad71577f85590180a935f60543f622652/littleutils-0.2.2.tar.gz\n",
            "Requirement already satisfied: requests in /usr/local/lib/python3.7/dist-packages (from outdated->pingouin) (2.23.0)\n",
            "Requirement already satisfied: six>=1.5 in /usr/local/lib/python3.7/dist-packages (from python-dateutil>=2.7.3->pandas>=0.24->pingouin) (1.15.0)\n",
            "Requirement already satisfied: setuptools>=41.2 in /usr/local/lib/python3.7/dist-packages (from xarray->pandas_flavor>=0.1.2->pingouin) (54.0.0)\n",
            "Requirement already satisfied: idna<3,>=2.5 in /usr/local/lib/python3.7/dist-packages (from requests->outdated->pingouin) (2.10)\n",
            "Requirement already satisfied: chardet<4,>=3.0.2 in /usr/local/lib/python3.7/dist-packages (from requests->outdated->pingouin) (3.0.4)\n",
            "Requirement already satisfied: certifi>=2017.4.17 in /usr/local/lib/python3.7/dist-packages (from requests->outdated->pingouin) (2020.12.5)\n",
            "Requirement already satisfied: urllib3!=1.25.0,!=1.25.1,<1.26,>=1.21.1 in /usr/local/lib/python3.7/dist-packages (from requests->outdated->pingouin) (1.24.3)\n",
            "Building wheels for collected packages: pingouin, outdated, littleutils\n",
            "  Building wheel for pingouin (setup.py) ... \u001b[?25l\u001b[?25hdone\n",
            "  Created wheel for pingouin: filename=pingouin-0.3.10-cp37-none-any.whl size=203396 sha256=caf68f9d2dbcdd0c850c83209098111407b0d3852492e7ab040da12210af52d0\n",
            "  Stored in directory: /root/.cache/pip/wheels/e6/f4/06/b5046209e6c0d96b4dea243c45e926b5c0dd88e23b01c45f92\n",
            "  Building wheel for outdated (setup.py) ... \u001b[?25l\u001b[?25hdone\n",
            "  Created wheel for outdated: filename=outdated-0.2.0-cp37-none-any.whl size=4962 sha256=e58e7ae559acd434e12b9d41ab417b3612872b4320b40a7df4454eb9020dc13e\n",
            "  Stored in directory: /root/.cache/pip/wheels/fd/7c/ef/814f514d31197310872b5abf353feb8fef9d67ee658e1e7e39\n",
            "  Building wheel for littleutils (setup.py) ... \u001b[?25l\u001b[?25hdone\n",
            "  Created wheel for littleutils: filename=littleutils-0.2.2-cp37-none-any.whl size=7051 sha256=9772bdec7bb9594499ce6af60b279accdeb321e5555f8b725371d0508d92795a\n",
            "  Stored in directory: /root/.cache/pip/wheels/53/16/9f/ac67d15c40243754fd73f620e1b9b6dedc20492ecc19a2bae1\n",
            "Successfully built pingouin outdated littleutils\n",
            "Installing collected packages: pandas-flavor, littleutils, outdated, pingouin\n",
            "Successfully installed littleutils-0.2.2 outdated-0.2.0 pandas-flavor-0.2.0 pingouin-0.3.10\n"
          ],
          "name": "stdout"
        }
      ]
    },
    {
      "cell_type": "code",
      "metadata": {
        "id": "tT6Z9JI_STRd"
      },
      "source": [
        "import pandas as pd\n",
        "import numpy as np\n",
        "import matplotlib.pyplot as plt\n",
        "import seaborn as sns\n",
        "from sklearn.preprocessing import MinMaxScaler\n",
        "from scipy import stats\n",
        "from pingouin import welch_anova"
      ],
      "execution_count": 3,
      "outputs": []
    },
    {
      "cell_type": "code",
      "metadata": {
        "colab": {
          "base_uri": "https://localhost:8080/"
        },
        "id": "C4p1VmGSS3V6",
        "outputId": "f9e13cf9-cb8d-43ae-d0ad-f4d3cf00fdce"
      },
      "source": [
        "from google.colab import drive\n",
        "drive.mount('/content/drive')"
      ],
      "execution_count": 4,
      "outputs": [
        {
          "output_type": "stream",
          "text": [
            "Mounted at /content/drive\n"
          ],
          "name": "stdout"
        }
      ]
    },
    {
      "cell_type": "code",
      "metadata": {
        "id": "LuFpOD8qSTRd"
      },
      "source": [
        "train_x = pd.read_csv('/content/drive/MyDrive/비트 트레이더/open/train_x_df.csv')\n",
        "train_y = pd.read_csv('/content/drive/MyDrive/비트 트레이더/open/train_y_df.csv')"
      ],
      "execution_count": 41,
      "outputs": []
    },
    {
      "cell_type": "code",
      "metadata": {
        "colab": {
          "base_uri": "https://localhost:8080/",
          "height": 204
        },
        "id": "_qnXj5xbSTRe",
        "outputId": "b17ce2f2-667a-47db-e7f8-dbc00439a7f9"
      },
      "source": [
        "train_x.head()"
      ],
      "execution_count": 42,
      "outputs": [
        {
          "output_type": "execute_result",
          "data": {
            "text/html": [
              "<div>\n",
              "<style scoped>\n",
              "    .dataframe tbody tr th:only-of-type {\n",
              "        vertical-align: middle;\n",
              "    }\n",
              "\n",
              "    .dataframe tbody tr th {\n",
              "        vertical-align: top;\n",
              "    }\n",
              "\n",
              "    .dataframe thead th {\n",
              "        text-align: right;\n",
              "    }\n",
              "</style>\n",
              "<table border=\"1\" class=\"dataframe\">\n",
              "  <thead>\n",
              "    <tr style=\"text-align: right;\">\n",
              "      <th></th>\n",
              "      <th>sample_id</th>\n",
              "      <th>time</th>\n",
              "      <th>coin_index</th>\n",
              "      <th>open</th>\n",
              "      <th>high</th>\n",
              "      <th>low</th>\n",
              "      <th>close</th>\n",
              "      <th>volume</th>\n",
              "      <th>quote_av</th>\n",
              "      <th>trades</th>\n",
              "      <th>tb_base_av</th>\n",
              "      <th>tb_quote_av</th>\n",
              "    </tr>\n",
              "  </thead>\n",
              "  <tbody>\n",
              "    <tr>\n",
              "      <th>0</th>\n",
              "      <td>0</td>\n",
              "      <td>0</td>\n",
              "      <td>7</td>\n",
              "      <td>1.010004</td>\n",
              "      <td>1.010004</td>\n",
              "      <td>1.009612</td>\n",
              "      <td>1.010004</td>\n",
              "      <td>8.382875e+05</td>\n",
              "      <td>43160.632812</td>\n",
              "      <td>451.157288</td>\n",
              "      <td>7.326834e+05</td>\n",
              "      <td>37725.183594</td>\n",
              "    </tr>\n",
              "    <tr>\n",
              "      <th>1</th>\n",
              "      <td>0</td>\n",
              "      <td>1</td>\n",
              "      <td>7</td>\n",
              "      <td>1.009808</td>\n",
              "      <td>1.009808</td>\n",
              "      <td>1.009808</td>\n",
              "      <td>1.009808</td>\n",
              "      <td>1.622420e+05</td>\n",
              "      <td>8352.220703</td>\n",
              "      <td>39.231071</td>\n",
              "      <td>0.000000e+00</td>\n",
              "      <td>0.000000</td>\n",
              "    </tr>\n",
              "    <tr>\n",
              "      <th>2</th>\n",
              "      <td>0</td>\n",
              "      <td>2</td>\n",
              "      <td>7</td>\n",
              "      <td>1.009808</td>\n",
              "      <td>1.010200</td>\n",
              "      <td>1.009808</td>\n",
              "      <td>1.010200</td>\n",
              "      <td>1.664967e+04</td>\n",
              "      <td>857.377808</td>\n",
              "      <td>58.846603</td>\n",
              "      <td>1.664967e+04</td>\n",
              "      <td>857.377808</td>\n",
              "    </tr>\n",
              "    <tr>\n",
              "      <th>3</th>\n",
              "      <td>0</td>\n",
              "      <td>3</td>\n",
              "      <td>7</td>\n",
              "      <td>1.010200</td>\n",
              "      <td>1.011181</td>\n",
              "      <td>1.010200</td>\n",
              "      <td>1.011181</td>\n",
              "      <td>2.586971e+06</td>\n",
              "      <td>133310.343750</td>\n",
              "      <td>431.541779</td>\n",
              "      <td>2.189147e+06</td>\n",
              "      <td>112811.046875</td>\n",
              "    </tr>\n",
              "    <tr>\n",
              "      <th>4</th>\n",
              "      <td>0</td>\n",
              "      <td>4</td>\n",
              "      <td>7</td>\n",
              "      <td>1.010985</td>\n",
              "      <td>1.010985</td>\n",
              "      <td>1.010200</td>\n",
              "      <td>1.010200</td>\n",
              "      <td>1.129996e+06</td>\n",
              "      <td>58216.867188</td>\n",
              "      <td>176.539810</td>\n",
              "      <td>0.000000e+00</td>\n",
              "      <td>0.000000</td>\n",
              "    </tr>\n",
              "  </tbody>\n",
              "</table>\n",
              "</div>"
            ],
            "text/plain": [
              "   sample_id  time  coin_index  ...      trades    tb_base_av    tb_quote_av\n",
              "0          0     0           7  ...  451.157288  7.326834e+05   37725.183594\n",
              "1          0     1           7  ...   39.231071  0.000000e+00       0.000000\n",
              "2          0     2           7  ...   58.846603  1.664967e+04     857.377808\n",
              "3          0     3           7  ...  431.541779  2.189147e+06  112811.046875\n",
              "4          0     4           7  ...  176.539810  0.000000e+00       0.000000\n",
              "\n",
              "[5 rows x 12 columns]"
            ]
          },
          "metadata": {
            "tags": []
          },
          "execution_count": 42
        }
      ]
    },
    {
      "cell_type": "code",
      "metadata": {
        "colab": {
          "base_uri": "https://localhost:8080/",
          "height": 204
        },
        "id": "VUV-Z9rySTRf",
        "outputId": "03bce933-8afa-4e0e-8605-f22abf940214"
      },
      "source": [
        "train_y.head()"
      ],
      "execution_count": 43,
      "outputs": [
        {
          "output_type": "execute_result",
          "data": {
            "text/html": [
              "<div>\n",
              "<style scoped>\n",
              "    .dataframe tbody tr th:only-of-type {\n",
              "        vertical-align: middle;\n",
              "    }\n",
              "\n",
              "    .dataframe tbody tr th {\n",
              "        vertical-align: top;\n",
              "    }\n",
              "\n",
              "    .dataframe thead th {\n",
              "        text-align: right;\n",
              "    }\n",
              "</style>\n",
              "<table border=\"1\" class=\"dataframe\">\n",
              "  <thead>\n",
              "    <tr style=\"text-align: right;\">\n",
              "      <th></th>\n",
              "      <th>sample_id</th>\n",
              "      <th>time</th>\n",
              "      <th>coin_index</th>\n",
              "      <th>open</th>\n",
              "      <th>high</th>\n",
              "      <th>low</th>\n",
              "      <th>close</th>\n",
              "      <th>volume</th>\n",
              "      <th>quote_av</th>\n",
              "      <th>trades</th>\n",
              "      <th>tb_base_av</th>\n",
              "      <th>tb_quote_av</th>\n",
              "    </tr>\n",
              "  </thead>\n",
              "  <tbody>\n",
              "    <tr>\n",
              "      <th>0</th>\n",
              "      <td>0</td>\n",
              "      <td>0</td>\n",
              "      <td>7</td>\n",
              "      <td>1.000392</td>\n",
              "      <td>1.000588</td>\n",
              "      <td>1.000392</td>\n",
              "      <td>1.000588</td>\n",
              "      <td>8.305119e+05</td>\n",
              "      <td>42356.179688</td>\n",
              "      <td>137.308746</td>\n",
              "      <td>8.305119e+05</td>\n",
              "      <td>42356.179688</td>\n",
              "    </tr>\n",
              "    <tr>\n",
              "      <th>1</th>\n",
              "      <td>0</td>\n",
              "      <td>1</td>\n",
              "      <td>7</td>\n",
              "      <td>1.000588</td>\n",
              "      <td>1.001177</td>\n",
              "      <td>1.000392</td>\n",
              "      <td>1.001177</td>\n",
              "      <td>5.320066e+05</td>\n",
              "      <td>27140.638672</td>\n",
              "      <td>294.233032</td>\n",
              "      <td>4.882738e+05</td>\n",
              "      <td>24909.861328</td>\n",
              "    </tr>\n",
              "    <tr>\n",
              "      <th>2</th>\n",
              "      <td>0</td>\n",
              "      <td>2</td>\n",
              "      <td>7</td>\n",
              "      <td>1.001177</td>\n",
              "      <td>1.001177</td>\n",
              "      <td>1.001177</td>\n",
              "      <td>1.001177</td>\n",
              "      <td>5.113770e+05</td>\n",
              "      <td>26100.681641</td>\n",
              "      <td>58.846603</td>\n",
              "      <td>5.113770e+05</td>\n",
              "      <td>26100.681641</td>\n",
              "    </tr>\n",
              "    <tr>\n",
              "      <th>3</th>\n",
              "      <td>0</td>\n",
              "      <td>3</td>\n",
              "      <td>7</td>\n",
              "      <td>1.001177</td>\n",
              "      <td>1.001373</td>\n",
              "      <td>1.001177</td>\n",
              "      <td>1.001373</td>\n",
              "      <td>1.134853e+06</td>\n",
              "      <td>57929.410156</td>\n",
              "      <td>137.308746</td>\n",
              "      <td>1.095514e+06</td>\n",
              "      <td>55921.156250</td>\n",
              "    </tr>\n",
              "    <tr>\n",
              "      <th>4</th>\n",
              "      <td>0</td>\n",
              "      <td>4</td>\n",
              "      <td>7</td>\n",
              "      <td>1.000981</td>\n",
              "      <td>1.000981</td>\n",
              "      <td>0.999804</td>\n",
              "      <td>1.000196</td>\n",
              "      <td>5.801173e+06</td>\n",
              "      <td>295872.343750</td>\n",
              "      <td>666.928162</td>\n",
              "      <td>9.911239e+05</td>\n",
              "      <td>50528.589844</td>\n",
              "    </tr>\n",
              "  </tbody>\n",
              "</table>\n",
              "</div>"
            ],
            "text/plain": [
              "   sample_id  time  coin_index  ...      trades    tb_base_av   tb_quote_av\n",
              "0          0     0           7  ...  137.308746  8.305119e+05  42356.179688\n",
              "1          0     1           7  ...  294.233032  4.882738e+05  24909.861328\n",
              "2          0     2           7  ...   58.846603  5.113770e+05  26100.681641\n",
              "3          0     3           7  ...  137.308746  1.095514e+06  55921.156250\n",
              "4          0     4           7  ...  666.928162  9.911239e+05  50528.589844\n",
              "\n",
              "[5 rows x 12 columns]"
            ]
          },
          "metadata": {
            "tags": []
          },
          "execution_count": 43
        }
      ]
    },
    {
      "cell_type": "code",
      "metadata": {
        "id": "OCslywRLSTRf"
      },
      "source": [
        ""
      ],
      "execution_count": 43,
      "outputs": []
    },
    {
      "cell_type": "markdown",
      "metadata": {
        "id": "3khINbHZSTRf"
      },
      "source": [
        "## 1. 데이터 파악하기 "
      ]
    },
    {
      "cell_type": "markdown",
      "metadata": {
        "id": "Qus3B4qwSTRg"
      },
      "source": [
        "#### 결측치 확인"
      ]
    },
    {
      "cell_type": "code",
      "metadata": {
        "colab": {
          "base_uri": "https://localhost:8080/"
        },
        "id": "QS2niPLeSTRg",
        "outputId": "39c80c94-250f-42d0-ab2b-be2c80378473"
      },
      "source": [
        "train_x.isna().sum()"
      ],
      "execution_count": 44,
      "outputs": [
        {
          "output_type": "execute_result",
          "data": {
            "text/plain": [
              "sample_id      0\n",
              "time           0\n",
              "coin_index     0\n",
              "open           0\n",
              "high           0\n",
              "low            0\n",
              "close          0\n",
              "volume         0\n",
              "quote_av       0\n",
              "trades         0\n",
              "tb_base_av     0\n",
              "tb_quote_av    0\n",
              "dtype: int64"
            ]
          },
          "metadata": {
            "tags": []
          },
          "execution_count": 44
        }
      ]
    },
    {
      "cell_type": "code",
      "metadata": {
        "colab": {
          "base_uri": "https://localhost:8080/"
        },
        "id": "TXvJZAXrSTRg",
        "outputId": "f8b04ea8-3ef6-46cc-85eb-ebf1e7847c83"
      },
      "source": [
        "train_y.isna().sum()"
      ],
      "execution_count": 45,
      "outputs": [
        {
          "output_type": "execute_result",
          "data": {
            "text/plain": [
              "sample_id      0\n",
              "time           0\n",
              "coin_index     0\n",
              "open           0\n",
              "high           0\n",
              "low            0\n",
              "close          0\n",
              "volume         0\n",
              "quote_av       0\n",
              "trades         0\n",
              "tb_base_av     0\n",
              "tb_quote_av    0\n",
              "dtype: int64"
            ]
          },
          "metadata": {
            "tags": []
          },
          "execution_count": 45
        }
      ]
    },
    {
      "cell_type": "markdown",
      "metadata": {
        "id": "-_XAjki5STRg"
      },
      "source": [
        "#### shape 확인"
      ]
    },
    {
      "cell_type": "code",
      "metadata": {
        "colab": {
          "base_uri": "https://localhost:8080/"
        },
        "id": "rPCvt4zESTRg",
        "outputId": "debbd9f6-5c50-49bb-cdba-b1f2ca5f049f"
      },
      "source": [
        "train_x.shape"
      ],
      "execution_count": 46,
      "outputs": [
        {
          "output_type": "execute_result",
          "data": {
            "text/plain": [
              "(10159560, 12)"
            ]
          },
          "metadata": {
            "tags": []
          },
          "execution_count": 46
        }
      ]
    },
    {
      "cell_type": "code",
      "metadata": {
        "colab": {
          "base_uri": "https://localhost:8080/"
        },
        "id": "S2h-c_IkSTRh",
        "outputId": "79f0b812-9169-4bf4-b66b-8b30a0db82d0"
      },
      "source": [
        "train_y.shape"
      ],
      "execution_count": 47,
      "outputs": [
        {
          "output_type": "execute_result",
          "data": {
            "text/plain": [
              "(883440, 12)"
            ]
          },
          "metadata": {
            "tags": []
          },
          "execution_count": 47
        }
      ]
    },
    {
      "cell_type": "markdown",
      "metadata": {
        "id": "Tf0_uNHSSTRh"
      },
      "source": [
        "#### 변수 확인"
      ]
    },
    {
      "cell_type": "markdown",
      "metadata": {
        "id": "GQCV-LyOSTRh"
      },
      "source": [
        "- sample_id : 개별 샘플의 인덱스\n",
        "- time : x_df는 0분 ~ 1379분(처음 23시간), y_df는 0분 ~ 119분(끝 2시간)의 값을 갖습니다. 동일한 샘플 내 시간 정보\n",
        "- coin_index : 10가지 종류의 코인에 대한 비식별화 인덱스 (0 ~9)\n",
        "- open : open price\n",
        "- high : high price\n",
        "- low : low price\n",
        "- close : close price\n",
        "- volume : 거래량\n",
        "- quote_av : quote asset volume\n",
        "- trades : 거래 건 수\n",
        "- tb_base_av : taker buy base asset volume\n",
        "- tb_quote_av : taker buy quote asset volume"
      ]
    },
    {
      "cell_type": "markdown",
      "metadata": {
        "id": "AHlbBCaySTRh"
      },
      "source": [
        "#### 데이터 형태 확인"
      ]
    },
    {
      "cell_type": "code",
      "metadata": {
        "colab": {
          "base_uri": "https://localhost:8080/",
          "height": 450
        },
        "id": "XnjVUUbrSTRi",
        "outputId": "d73824e5-6f79-43f4-cfbc-b89593687c4b"
      },
      "source": [
        "train_x.groupby('sample_id').count()"
      ],
      "execution_count": 48,
      "outputs": [
        {
          "output_type": "execute_result",
          "data": {
            "text/html": [
              "<div>\n",
              "<style scoped>\n",
              "    .dataframe tbody tr th:only-of-type {\n",
              "        vertical-align: middle;\n",
              "    }\n",
              "\n",
              "    .dataframe tbody tr th {\n",
              "        vertical-align: top;\n",
              "    }\n",
              "\n",
              "    .dataframe thead th {\n",
              "        text-align: right;\n",
              "    }\n",
              "</style>\n",
              "<table border=\"1\" class=\"dataframe\">\n",
              "  <thead>\n",
              "    <tr style=\"text-align: right;\">\n",
              "      <th></th>\n",
              "      <th>time</th>\n",
              "      <th>coin_index</th>\n",
              "      <th>open</th>\n",
              "      <th>high</th>\n",
              "      <th>low</th>\n",
              "      <th>close</th>\n",
              "      <th>volume</th>\n",
              "      <th>quote_av</th>\n",
              "      <th>trades</th>\n",
              "      <th>tb_base_av</th>\n",
              "      <th>tb_quote_av</th>\n",
              "    </tr>\n",
              "    <tr>\n",
              "      <th>sample_id</th>\n",
              "      <th></th>\n",
              "      <th></th>\n",
              "      <th></th>\n",
              "      <th></th>\n",
              "      <th></th>\n",
              "      <th></th>\n",
              "      <th></th>\n",
              "      <th></th>\n",
              "      <th></th>\n",
              "      <th></th>\n",
              "      <th></th>\n",
              "    </tr>\n",
              "  </thead>\n",
              "  <tbody>\n",
              "    <tr>\n",
              "      <th>0</th>\n",
              "      <td>1380</td>\n",
              "      <td>1380</td>\n",
              "      <td>1380</td>\n",
              "      <td>1380</td>\n",
              "      <td>1380</td>\n",
              "      <td>1380</td>\n",
              "      <td>1380</td>\n",
              "      <td>1380</td>\n",
              "      <td>1380</td>\n",
              "      <td>1380</td>\n",
              "      <td>1380</td>\n",
              "    </tr>\n",
              "    <tr>\n",
              "      <th>1</th>\n",
              "      <td>1380</td>\n",
              "      <td>1380</td>\n",
              "      <td>1380</td>\n",
              "      <td>1380</td>\n",
              "      <td>1380</td>\n",
              "      <td>1380</td>\n",
              "      <td>1380</td>\n",
              "      <td>1380</td>\n",
              "      <td>1380</td>\n",
              "      <td>1380</td>\n",
              "      <td>1380</td>\n",
              "    </tr>\n",
              "    <tr>\n",
              "      <th>2</th>\n",
              "      <td>1380</td>\n",
              "      <td>1380</td>\n",
              "      <td>1380</td>\n",
              "      <td>1380</td>\n",
              "      <td>1380</td>\n",
              "      <td>1380</td>\n",
              "      <td>1380</td>\n",
              "      <td>1380</td>\n",
              "      <td>1380</td>\n",
              "      <td>1380</td>\n",
              "      <td>1380</td>\n",
              "    </tr>\n",
              "    <tr>\n",
              "      <th>3</th>\n",
              "      <td>1380</td>\n",
              "      <td>1380</td>\n",
              "      <td>1380</td>\n",
              "      <td>1380</td>\n",
              "      <td>1380</td>\n",
              "      <td>1380</td>\n",
              "      <td>1380</td>\n",
              "      <td>1380</td>\n",
              "      <td>1380</td>\n",
              "      <td>1380</td>\n",
              "      <td>1380</td>\n",
              "    </tr>\n",
              "    <tr>\n",
              "      <th>4</th>\n",
              "      <td>1380</td>\n",
              "      <td>1380</td>\n",
              "      <td>1380</td>\n",
              "      <td>1380</td>\n",
              "      <td>1380</td>\n",
              "      <td>1380</td>\n",
              "      <td>1380</td>\n",
              "      <td>1380</td>\n",
              "      <td>1380</td>\n",
              "      <td>1380</td>\n",
              "      <td>1380</td>\n",
              "    </tr>\n",
              "    <tr>\n",
              "      <th>...</th>\n",
              "      <td>...</td>\n",
              "      <td>...</td>\n",
              "      <td>...</td>\n",
              "      <td>...</td>\n",
              "      <td>...</td>\n",
              "      <td>...</td>\n",
              "      <td>...</td>\n",
              "      <td>...</td>\n",
              "      <td>...</td>\n",
              "      <td>...</td>\n",
              "      <td>...</td>\n",
              "    </tr>\n",
              "    <tr>\n",
              "      <th>7357</th>\n",
              "      <td>1380</td>\n",
              "      <td>1380</td>\n",
              "      <td>1380</td>\n",
              "      <td>1380</td>\n",
              "      <td>1380</td>\n",
              "      <td>1380</td>\n",
              "      <td>1380</td>\n",
              "      <td>1380</td>\n",
              "      <td>1380</td>\n",
              "      <td>1380</td>\n",
              "      <td>1380</td>\n",
              "    </tr>\n",
              "    <tr>\n",
              "      <th>7358</th>\n",
              "      <td>1380</td>\n",
              "      <td>1380</td>\n",
              "      <td>1380</td>\n",
              "      <td>1380</td>\n",
              "      <td>1380</td>\n",
              "      <td>1380</td>\n",
              "      <td>1380</td>\n",
              "      <td>1380</td>\n",
              "      <td>1380</td>\n",
              "      <td>1380</td>\n",
              "      <td>1380</td>\n",
              "    </tr>\n",
              "    <tr>\n",
              "      <th>7359</th>\n",
              "      <td>1380</td>\n",
              "      <td>1380</td>\n",
              "      <td>1380</td>\n",
              "      <td>1380</td>\n",
              "      <td>1380</td>\n",
              "      <td>1380</td>\n",
              "      <td>1380</td>\n",
              "      <td>1380</td>\n",
              "      <td>1380</td>\n",
              "      <td>1380</td>\n",
              "      <td>1380</td>\n",
              "    </tr>\n",
              "    <tr>\n",
              "      <th>7360</th>\n",
              "      <td>1380</td>\n",
              "      <td>1380</td>\n",
              "      <td>1380</td>\n",
              "      <td>1380</td>\n",
              "      <td>1380</td>\n",
              "      <td>1380</td>\n",
              "      <td>1380</td>\n",
              "      <td>1380</td>\n",
              "      <td>1380</td>\n",
              "      <td>1380</td>\n",
              "      <td>1380</td>\n",
              "    </tr>\n",
              "    <tr>\n",
              "      <th>7361</th>\n",
              "      <td>1380</td>\n",
              "      <td>1380</td>\n",
              "      <td>1380</td>\n",
              "      <td>1380</td>\n",
              "      <td>1380</td>\n",
              "      <td>1380</td>\n",
              "      <td>1380</td>\n",
              "      <td>1380</td>\n",
              "      <td>1380</td>\n",
              "      <td>1380</td>\n",
              "      <td>1380</td>\n",
              "    </tr>\n",
              "  </tbody>\n",
              "</table>\n",
              "<p>7362 rows × 11 columns</p>\n",
              "</div>"
            ],
            "text/plain": [
              "           time  coin_index  open  ...  trades  tb_base_av  tb_quote_av\n",
              "sample_id                          ...                                 \n",
              "0          1380        1380  1380  ...    1380        1380         1380\n",
              "1          1380        1380  1380  ...    1380        1380         1380\n",
              "2          1380        1380  1380  ...    1380        1380         1380\n",
              "3          1380        1380  1380  ...    1380        1380         1380\n",
              "4          1380        1380  1380  ...    1380        1380         1380\n",
              "...         ...         ...   ...  ...     ...         ...          ...\n",
              "7357       1380        1380  1380  ...    1380        1380         1380\n",
              "7358       1380        1380  1380  ...    1380        1380         1380\n",
              "7359       1380        1380  1380  ...    1380        1380         1380\n",
              "7360       1380        1380  1380  ...    1380        1380         1380\n",
              "7361       1380        1380  1380  ...    1380        1380         1380\n",
              "\n",
              "[7362 rows x 11 columns]"
            ]
          },
          "metadata": {
            "tags": []
          },
          "execution_count": 48
        }
      ]
    },
    {
      "cell_type": "markdown",
      "metadata": {
        "id": "s3-0jWOQSTRi"
      },
      "source": [
        "**=> sample_id 7362개**"
      ]
    },
    {
      "cell_type": "code",
      "metadata": {
        "colab": {
          "base_uri": "https://localhost:8080/",
          "height": 450
        },
        "id": "gYZJApwQSTRi",
        "outputId": "3c279d8b-3634-4d57-8d78-dab40491f150"
      },
      "source": [
        "train_x.groupby(['coin_index','sample_id']).count()"
      ],
      "execution_count": 49,
      "outputs": [
        {
          "output_type": "execute_result",
          "data": {
            "text/html": [
              "<div>\n",
              "<style scoped>\n",
              "    .dataframe tbody tr th:only-of-type {\n",
              "        vertical-align: middle;\n",
              "    }\n",
              "\n",
              "    .dataframe tbody tr th {\n",
              "        vertical-align: top;\n",
              "    }\n",
              "\n",
              "    .dataframe thead th {\n",
              "        text-align: right;\n",
              "    }\n",
              "</style>\n",
              "<table border=\"1\" class=\"dataframe\">\n",
              "  <thead>\n",
              "    <tr style=\"text-align: right;\">\n",
              "      <th></th>\n",
              "      <th></th>\n",
              "      <th>time</th>\n",
              "      <th>open</th>\n",
              "      <th>high</th>\n",
              "      <th>low</th>\n",
              "      <th>close</th>\n",
              "      <th>volume</th>\n",
              "      <th>quote_av</th>\n",
              "      <th>trades</th>\n",
              "      <th>tb_base_av</th>\n",
              "      <th>tb_quote_av</th>\n",
              "    </tr>\n",
              "    <tr>\n",
              "      <th>coin_index</th>\n",
              "      <th>sample_id</th>\n",
              "      <th></th>\n",
              "      <th></th>\n",
              "      <th></th>\n",
              "      <th></th>\n",
              "      <th></th>\n",
              "      <th></th>\n",
              "      <th></th>\n",
              "      <th></th>\n",
              "      <th></th>\n",
              "      <th></th>\n",
              "    </tr>\n",
              "  </thead>\n",
              "  <tbody>\n",
              "    <tr>\n",
              "      <th rowspan=\"5\" valign=\"top\">0</th>\n",
              "      <th>1</th>\n",
              "      <td>1380</td>\n",
              "      <td>1380</td>\n",
              "      <td>1380</td>\n",
              "      <td>1380</td>\n",
              "      <td>1380</td>\n",
              "      <td>1380</td>\n",
              "      <td>1380</td>\n",
              "      <td>1380</td>\n",
              "      <td>1380</td>\n",
              "      <td>1380</td>\n",
              "    </tr>\n",
              "    <tr>\n",
              "      <th>16</th>\n",
              "      <td>1380</td>\n",
              "      <td>1380</td>\n",
              "      <td>1380</td>\n",
              "      <td>1380</td>\n",
              "      <td>1380</td>\n",
              "      <td>1380</td>\n",
              "      <td>1380</td>\n",
              "      <td>1380</td>\n",
              "      <td>1380</td>\n",
              "      <td>1380</td>\n",
              "    </tr>\n",
              "    <tr>\n",
              "      <th>19</th>\n",
              "      <td>1380</td>\n",
              "      <td>1380</td>\n",
              "      <td>1380</td>\n",
              "      <td>1380</td>\n",
              "      <td>1380</td>\n",
              "      <td>1380</td>\n",
              "      <td>1380</td>\n",
              "      <td>1380</td>\n",
              "      <td>1380</td>\n",
              "      <td>1380</td>\n",
              "    </tr>\n",
              "    <tr>\n",
              "      <th>26</th>\n",
              "      <td>1380</td>\n",
              "      <td>1380</td>\n",
              "      <td>1380</td>\n",
              "      <td>1380</td>\n",
              "      <td>1380</td>\n",
              "      <td>1380</td>\n",
              "      <td>1380</td>\n",
              "      <td>1380</td>\n",
              "      <td>1380</td>\n",
              "      <td>1380</td>\n",
              "    </tr>\n",
              "    <tr>\n",
              "      <th>30</th>\n",
              "      <td>1380</td>\n",
              "      <td>1380</td>\n",
              "      <td>1380</td>\n",
              "      <td>1380</td>\n",
              "      <td>1380</td>\n",
              "      <td>1380</td>\n",
              "      <td>1380</td>\n",
              "      <td>1380</td>\n",
              "      <td>1380</td>\n",
              "      <td>1380</td>\n",
              "    </tr>\n",
              "    <tr>\n",
              "      <th>...</th>\n",
              "      <th>...</th>\n",
              "      <td>...</td>\n",
              "      <td>...</td>\n",
              "      <td>...</td>\n",
              "      <td>...</td>\n",
              "      <td>...</td>\n",
              "      <td>...</td>\n",
              "      <td>...</td>\n",
              "      <td>...</td>\n",
              "      <td>...</td>\n",
              "      <td>...</td>\n",
              "    </tr>\n",
              "    <tr>\n",
              "      <th rowspan=\"5\" valign=\"top\">9</th>\n",
              "      <th>7351</th>\n",
              "      <td>1380</td>\n",
              "      <td>1380</td>\n",
              "      <td>1380</td>\n",
              "      <td>1380</td>\n",
              "      <td>1380</td>\n",
              "      <td>1380</td>\n",
              "      <td>1380</td>\n",
              "      <td>1380</td>\n",
              "      <td>1380</td>\n",
              "      <td>1380</td>\n",
              "    </tr>\n",
              "    <tr>\n",
              "      <th>7353</th>\n",
              "      <td>1380</td>\n",
              "      <td>1380</td>\n",
              "      <td>1380</td>\n",
              "      <td>1380</td>\n",
              "      <td>1380</td>\n",
              "      <td>1380</td>\n",
              "      <td>1380</td>\n",
              "      <td>1380</td>\n",
              "      <td>1380</td>\n",
              "      <td>1380</td>\n",
              "    </tr>\n",
              "    <tr>\n",
              "      <th>7354</th>\n",
              "      <td>1380</td>\n",
              "      <td>1380</td>\n",
              "      <td>1380</td>\n",
              "      <td>1380</td>\n",
              "      <td>1380</td>\n",
              "      <td>1380</td>\n",
              "      <td>1380</td>\n",
              "      <td>1380</td>\n",
              "      <td>1380</td>\n",
              "      <td>1380</td>\n",
              "    </tr>\n",
              "    <tr>\n",
              "      <th>7356</th>\n",
              "      <td>1380</td>\n",
              "      <td>1380</td>\n",
              "      <td>1380</td>\n",
              "      <td>1380</td>\n",
              "      <td>1380</td>\n",
              "      <td>1380</td>\n",
              "      <td>1380</td>\n",
              "      <td>1380</td>\n",
              "      <td>1380</td>\n",
              "      <td>1380</td>\n",
              "    </tr>\n",
              "    <tr>\n",
              "      <th>7358</th>\n",
              "      <td>1380</td>\n",
              "      <td>1380</td>\n",
              "      <td>1380</td>\n",
              "      <td>1380</td>\n",
              "      <td>1380</td>\n",
              "      <td>1380</td>\n",
              "      <td>1380</td>\n",
              "      <td>1380</td>\n",
              "      <td>1380</td>\n",
              "      <td>1380</td>\n",
              "    </tr>\n",
              "  </tbody>\n",
              "</table>\n",
              "<p>7362 rows × 10 columns</p>\n",
              "</div>"
            ],
            "text/plain": [
              "                      time  open  high  ...  trades  tb_base_av  tb_quote_av\n",
              "coin_index sample_id                    ...                                 \n",
              "0          1          1380  1380  1380  ...    1380        1380         1380\n",
              "           16         1380  1380  1380  ...    1380        1380         1380\n",
              "           19         1380  1380  1380  ...    1380        1380         1380\n",
              "           26         1380  1380  1380  ...    1380        1380         1380\n",
              "           30         1380  1380  1380  ...    1380        1380         1380\n",
              "...                    ...   ...   ...  ...     ...         ...          ...\n",
              "9          7351       1380  1380  1380  ...    1380        1380         1380\n",
              "           7353       1380  1380  1380  ...    1380        1380         1380\n",
              "           7354       1380  1380  1380  ...    1380        1380         1380\n",
              "           7356       1380  1380  1380  ...    1380        1380         1380\n",
              "           7358       1380  1380  1380  ...    1380        1380         1380\n",
              "\n",
              "[7362 rows x 10 columns]"
            ]
          },
          "metadata": {
            "tags": []
          },
          "execution_count": 49
        }
      ]
    },
    {
      "cell_type": "markdown",
      "metadata": {
        "id": "b16kE75gSTRi"
      },
      "source": [
        "**=> 'coin_index'는 코인의 종류, 'sample_id'는 개별 코인을 의미**"
      ]
    },
    {
      "cell_type": "code",
      "metadata": {
        "id": "shTFzOiGSTRi"
      },
      "source": [
        ""
      ],
      "execution_count": 49,
      "outputs": []
    },
    {
      "cell_type": "markdown",
      "metadata": {
        "id": "8Bkdj3BwSTRj"
      },
      "source": [
        "## 2. EDA"
      ]
    },
    {
      "cell_type": "markdown",
      "metadata": {
        "id": "4LuxD0I_STRj"
      },
      "source": [
        "#### 시계열 그래프 확인 (sample_id == 0)"
      ]
    },
    {
      "cell_type": "code",
      "metadata": {
        "id": "PfUm2_3GSTRj"
      },
      "source": [
        "x_sample_0 = train_x[train_x['sample_id']==0]\n",
        "y_sample_0 = train_y[train_y['sample_id']==0]"
      ],
      "execution_count": 50,
      "outputs": []
    },
    {
      "cell_type": "code",
      "metadata": {
        "colab": {
          "base_uri": "https://localhost:8080/"
        },
        "id": "ymxrCbglSTRj",
        "outputId": "f9496ed0-39bf-443d-db33-8021d6825660"
      },
      "source": [
        "x_sample_0.shape"
      ],
      "execution_count": 51,
      "outputs": [
        {
          "output_type": "execute_result",
          "data": {
            "text/plain": [
              "(1380, 12)"
            ]
          },
          "metadata": {
            "tags": []
          },
          "execution_count": 51
        }
      ]
    },
    {
      "cell_type": "code",
      "metadata": {
        "colab": {
          "base_uri": "https://localhost:8080/"
        },
        "id": "edo8clneSTRj",
        "outputId": "52efb725-0301-4271-efef-3aa9cc3230c4"
      },
      "source": [
        "y_sample_0.shape"
      ],
      "execution_count": 52,
      "outputs": [
        {
          "output_type": "execute_result",
          "data": {
            "text/plain": [
              "(120, 12)"
            ]
          },
          "metadata": {
            "tags": []
          },
          "execution_count": 52
        }
      ]
    },
    {
      "cell_type": "code",
      "metadata": {
        "colab": {
          "base_uri": "https://localhost:8080/",
          "height": 320
        },
        "id": "yAewd5fjSTRj",
        "outputId": "2800538c-37cf-4030-aa5b-039f5aef3925"
      },
      "source": [
        "# open price 기준\n",
        "\n",
        "plt.figure(figsize = (15,5))\n",
        "plt.plot(x_sample_0['open'], label = 'train_x')\n",
        "plt.plot(np.arange(x_sample_0.shape[0], x_sample_0.shape[0]+y_sample_0.shape[0]), y_sample_0['open'], label = 'train_y')\n",
        "plt.legend()\n",
        "plt.show()"
      ],
      "execution_count": 53,
      "outputs": [
        {
          "output_type": "display_data",
          "data": {
            "image/png": "[encoded data removed]",
            "text/plain": [
              "<Figure size 1080x360 with 1 Axes>"
            ]
          },
          "metadata": {
            "tags": [],
            "needs_background": "light"
          }
        }
      ]
    },
    {
      "cell_type": "markdown",
      "metadata": {
        "id": "y0fzdmS6STRk"
      },
      "source": [
        "#### 변동률 확인 (분 단위)"
      ]
    },
    {
      "cell_type": "markdown",
      "metadata": {
        "id": "SGecFKMZSTRk"
      },
      "source": [
        "((당일 종가)-(전일 종가))/전일 종가 </br>\n",
        "참고) 원래 일 단위별 변동률은 당일 고가에서 당일 저가를 뺀 수치를 전일 종가로 나누어 구한다."
      ]
    },
    {
      "cell_type": "code",
      "metadata": {
        "colab": {
          "base_uri": "https://localhost:8080/",
          "height": 818
        },
        "id": "hUb-3-gVSTRk",
        "outputId": "88e88e60-145d-489f-ec0a-fa069de2a5ba"
      },
      "source": [
        "x_sample_0['fluct_rate']= float(0)\n",
        "y_sample_0['fluct_rate']= float(0)\n",
        "\n",
        "for i in range(len(x_sample_0)-1):\n",
        "    x_sample_0['fluct_rate'][i+1] = (x_sample_0['close'][i+1]-x_sample_0['close'][i])/x_sample_0['close'][i]\n",
        "\n",
        "for i in range(len(y_sample_0)-1):\n",
        "    y_sample_0['fluct_rate'][i+1] = (y_sample_0['close'][i+1]-y_sample_0['close'][i])/y_sample_0['close'][i]\n",
        "\n",
        "x_sample_0.head(10)"
      ],
      "execution_count": 54,
      "outputs": [
        {
          "output_type": "stream",
          "text": [
            "/usr/local/lib/python3.7/dist-packages/ipykernel_launcher.py:1: SettingWithCopyWarning: \n",
            "A value is trying to be set on a copy of a slice from a DataFrame.\n",
            "Try using .loc[row_indexer,col_indexer] = value instead\n",
            "\n",
            "See the caveats in the documentation: https://pandas.pydata.org/pandas-docs/stable/user_guide/indexing.html#returning-a-view-versus-a-copy\n",
            "  \"\"\"Entry point for launching an IPython kernel.\n",
            "/usr/local/lib/python3.7/dist-packages/ipykernel_launcher.py:2: SettingWithCopyWarning: \n",
            "A value is trying to be set on a copy of a slice from a DataFrame.\n",
            "Try using .loc[row_indexer,col_indexer] = value instead\n",
            "\n",
            "See the caveats in the documentation: https://pandas.pydata.org/pandas-docs/stable/user_guide/indexing.html#returning-a-view-versus-a-copy\n",
            "  \n",
            "/usr/local/lib/python3.7/dist-packages/ipykernel_launcher.py:5: SettingWithCopyWarning: \n",
            "A value is trying to be set on a copy of a slice from a DataFrame\n",
            "\n",
            "See the caveats in the documentation: https://pandas.pydata.org/pandas-docs/stable/user_guide/indexing.html#returning-a-view-versus-a-copy\n",
            "  \"\"\"\n",
            "/usr/local/lib/python3.7/dist-packages/IPython/core/interactiveshell.py:2882: SettingWithCopyWarning: \n",
            "A value is trying to be set on a copy of a slice from a DataFrame\n",
            "\n",
            "See the caveats in the documentation: https://pandas.pydata.org/pandas-docs/stable/user_guide/indexing.html#returning-a-view-versus-a-copy\n",
            "  exec(code_obj, self.user_global_ns, self.user_ns)\n",
            "/usr/local/lib/python3.7/dist-packages/ipykernel_launcher.py:8: SettingWithCopyWarning: \n",
            "A value is trying to be set on a copy of a slice from a DataFrame\n",
            "\n",
            "See the caveats in the documentation: https://pandas.pydata.org/pandas-docs/stable/user_guide/indexing.html#returning-a-view-versus-a-copy\n",
            "  \n"
          ],
          "name": "stderr"
        },
        {
          "output_type": "execute_result",
          "data": {
            "text/html": [
              "<div>\n",
              "<style scoped>\n",
              "    .dataframe tbody tr th:only-of-type {\n",
              "        vertical-align: middle;\n",
              "    }\n",
              "\n",
              "    .dataframe tbody tr th {\n",
              "        vertical-align: top;\n",
              "    }\n",
              "\n",
              "    .dataframe thead th {\n",
              "        text-align: right;\n",
              "    }\n",
              "</style>\n",
              "<table border=\"1\" class=\"dataframe\">\n",
              "  <thead>\n",
              "    <tr style=\"text-align: right;\">\n",
              "      <th></th>\n",
              "      <th>sample_id</th>\n",
              "      <th>time</th>\n",
              "      <th>coin_index</th>\n",
              "      <th>open</th>\n",
              "      <th>high</th>\n",
              "      <th>low</th>\n",
              "      <th>close</th>\n",
              "      <th>volume</th>\n",
              "      <th>quote_av</th>\n",
              "      <th>trades</th>\n",
              "      <th>tb_base_av</th>\n",
              "      <th>tb_quote_av</th>\n",
              "      <th>fluct_rate</th>\n",
              "    </tr>\n",
              "  </thead>\n",
              "  <tbody>\n",
              "    <tr>\n",
              "      <th>0</th>\n",
              "      <td>0</td>\n",
              "      <td>0</td>\n",
              "      <td>7</td>\n",
              "      <td>1.010004</td>\n",
              "      <td>1.010004</td>\n",
              "      <td>1.009612</td>\n",
              "      <td>1.010004</td>\n",
              "      <td>8.382875e+05</td>\n",
              "      <td>43160.632812</td>\n",
              "      <td>451.157288</td>\n",
              "      <td>7.326834e+05</td>\n",
              "      <td>37725.183594</td>\n",
              "      <td>0.000000</td>\n",
              "    </tr>\n",
              "    <tr>\n",
              "      <th>1</th>\n",
              "      <td>0</td>\n",
              "      <td>1</td>\n",
              "      <td>7</td>\n",
              "      <td>1.009808</td>\n",
              "      <td>1.009808</td>\n",
              "      <td>1.009808</td>\n",
              "      <td>1.009808</td>\n",
              "      <td>1.622420e+05</td>\n",
              "      <td>8352.220703</td>\n",
              "      <td>39.231071</td>\n",
              "      <td>0.000000e+00</td>\n",
              "      <td>0.000000</td>\n",
              "      <td>-0.000194</td>\n",
              "    </tr>\n",
              "    <tr>\n",
              "      <th>2</th>\n",
              "      <td>0</td>\n",
              "      <td>2</td>\n",
              "      <td>7</td>\n",
              "      <td>1.009808</td>\n",
              "      <td>1.010200</td>\n",
              "      <td>1.009808</td>\n",
              "      <td>1.010200</td>\n",
              "      <td>1.664967e+04</td>\n",
              "      <td>857.377808</td>\n",
              "      <td>58.846603</td>\n",
              "      <td>1.664967e+04</td>\n",
              "      <td>857.377808</td>\n",
              "      <td>0.000389</td>\n",
              "    </tr>\n",
              "    <tr>\n",
              "      <th>3</th>\n",
              "      <td>0</td>\n",
              "      <td>3</td>\n",
              "      <td>7</td>\n",
              "      <td>1.010200</td>\n",
              "      <td>1.011181</td>\n",
              "      <td>1.010200</td>\n",
              "      <td>1.011181</td>\n",
              "      <td>2.586971e+06</td>\n",
              "      <td>133310.343750</td>\n",
              "      <td>431.541779</td>\n",
              "      <td>2.189147e+06</td>\n",
              "      <td>112811.046875</td>\n",
              "      <td>0.000971</td>\n",
              "    </tr>\n",
              "    <tr>\n",
              "      <th>4</th>\n",
              "      <td>0</td>\n",
              "      <td>4</td>\n",
              "      <td>7</td>\n",
              "      <td>1.010985</td>\n",
              "      <td>1.010985</td>\n",
              "      <td>1.010200</td>\n",
              "      <td>1.010200</td>\n",
              "      <td>1.129996e+06</td>\n",
              "      <td>58216.867188</td>\n",
              "      <td>176.539810</td>\n",
              "      <td>0.000000e+00</td>\n",
              "      <td>0.000000</td>\n",
              "      <td>-0.000970</td>\n",
              "    </tr>\n",
              "    <tr>\n",
              "      <th>5</th>\n",
              "      <td>0</td>\n",
              "      <td>5</td>\n",
              "      <td>7</td>\n",
              "      <td>1.010396</td>\n",
              "      <td>1.011377</td>\n",
              "      <td>1.010396</td>\n",
              "      <td>1.011377</td>\n",
              "      <td>1.226671e+06</td>\n",
              "      <td>63211.722656</td>\n",
              "      <td>255.001953</td>\n",
              "      <td>1.226671e+06</td>\n",
              "      <td>63211.722656</td>\n",
              "      <td>0.001165</td>\n",
              "    </tr>\n",
              "    <tr>\n",
              "      <th>6</th>\n",
              "      <td>0</td>\n",
              "      <td>6</td>\n",
              "      <td>7</td>\n",
              "      <td>1.011377</td>\n",
              "      <td>1.011769</td>\n",
              "      <td>1.011377</td>\n",
              "      <td>1.011769</td>\n",
              "      <td>1.658297e+05</td>\n",
              "      <td>8552.825195</td>\n",
              "      <td>78.462143</td>\n",
              "      <td>1.567674e+05</td>\n",
              "      <td>8085.568359</td>\n",
              "      <td>0.000388</td>\n",
              "    </tr>\n",
              "    <tr>\n",
              "      <th>7</th>\n",
              "      <td>0</td>\n",
              "      <td>7</td>\n",
              "      <td>7</td>\n",
              "      <td>1.011769</td>\n",
              "      <td>1.011769</td>\n",
              "      <td>1.011769</td>\n",
              "      <td>1.011769</td>\n",
              "      <td>0.000000e+00</td>\n",
              "      <td>0.000000</td>\n",
              "      <td>0.000000</td>\n",
              "      <td>0.000000e+00</td>\n",
              "      <td>0.000000</td>\n",
              "      <td>0.000000</td>\n",
              "    </tr>\n",
              "    <tr>\n",
              "      <th>8</th>\n",
              "      <td>0</td>\n",
              "      <td>8</td>\n",
              "      <td>7</td>\n",
              "      <td>1.012162</td>\n",
              "      <td>1.012162</td>\n",
              "      <td>1.012162</td>\n",
              "      <td>1.012162</td>\n",
              "      <td>1.019949e+05</td>\n",
              "      <td>5262.937012</td>\n",
              "      <td>39.231071</td>\n",
              "      <td>3.663005e+04</td>\n",
              "      <td>1890.110596</td>\n",
              "      <td>0.000388</td>\n",
              "    </tr>\n",
              "    <tr>\n",
              "      <th>9</th>\n",
              "      <td>0</td>\n",
              "      <td>9</td>\n",
              "      <td>7</td>\n",
              "      <td>1.012162</td>\n",
              "      <td>1.012162</td>\n",
              "      <td>1.010789</td>\n",
              "      <td>1.010985</td>\n",
              "      <td>1.392534e+06</td>\n",
              "      <td>71794.312500</td>\n",
              "      <td>294.233032</td>\n",
              "      <td>4.946646e+05</td>\n",
              "      <td>25505.400391</td>\n",
              "      <td>-0.001163</td>\n",
              "    </tr>\n",
              "  </tbody>\n",
              "</table>\n",
              "</div>"
            ],
            "text/plain": [
              "   sample_id  time  coin_index  ...    tb_base_av    tb_quote_av  fluct_rate\n",
              "0          0     0           7  ...  7.326834e+05   37725.183594    0.000000\n",
              "1          0     1           7  ...  0.000000e+00       0.000000   -0.000194\n",
              "2          0     2           7  ...  1.664967e+04     857.377808    0.000389\n",
              "3          0     3           7  ...  2.189147e+06  112811.046875    0.000971\n",
              "4          0     4           7  ...  0.000000e+00       0.000000   -0.000970\n",
              "5          0     5           7  ...  1.226671e+06   63211.722656    0.001165\n",
              "6          0     6           7  ...  1.567674e+05    8085.568359    0.000388\n",
              "7          0     7           7  ...  0.000000e+00       0.000000    0.000000\n",
              "8          0     8           7  ...  3.663005e+04    1890.110596    0.000388\n",
              "9          0     9           7  ...  4.946646e+05   25505.400391   -0.001163\n",
              "\n",
              "[10 rows x 13 columns]"
            ]
          },
          "metadata": {
            "tags": []
          },
          "execution_count": 54
        }
      ]
    },
    {
      "cell_type": "code",
      "metadata": {
        "colab": {
          "base_uri": "https://localhost:8080/",
          "height": 320
        },
        "id": "1sgUdh43STRk",
        "outputId": "5d2f5e3f-2277-4f6b-a33d-db05820c7849"
      },
      "source": [
        "plt.figure(figsize = (15,5))\n",
        "plt.plot(x_sample_0['fluct_rate'], label = 'train_x')\n",
        "plt.plot(np.arange(x_sample_0.shape[0], x_sample_0.shape[0]+y_sample_0.shape[0]), y_sample_0['fluct_rate'], label = 'train_y')\n",
        "plt.legend()\n",
        "plt.axhline( y = 0, color = 'red', ls = '--')\n",
        "plt.show()"
      ],
      "execution_count": 55,
      "outputs": [
        {
          "output_type": "display_data",
          "data": {
            "image/png": "[encoded data removed]",
            "text/plain": [
              "<Figure size 1080x360 with 1 Axes>"
            ]
          },
          "metadata": {
            "tags": [],
            "needs_background": "light"
          }
        }
      ]
    },
    {
      "cell_type": "markdown",
      "metadata": {
        "id": "E-rf6y-6STRl"
      },
      "source": [
        "#### 코인 인덱스 그룹 별 데이터 평균치"
      ]
    },
    {
      "cell_type": "code",
      "metadata": {
        "id": "lqUoL7sTSTRl"
      },
      "source": [
        "train_x_ = train_x.copy()"
      ],
      "execution_count": 56,
      "outputs": []
    },
    {
      "cell_type": "code",
      "metadata": {
        "colab": {
          "base_uri": "https://localhost:8080/",
          "height": 390
        },
        "id": "jDv-wrsFSTRl",
        "outputId": "0ff8eaab-ea5e-4151-be61-ab2c47036b3f"
      },
      "source": [
        "train_x_.groupby('coin_index').mean()"
      ],
      "execution_count": 57,
      "outputs": [
        {
          "output_type": "execute_result",
          "data": {
            "text/html": [
              "<div>\n",
              "<style scoped>\n",
              "    .dataframe tbody tr th:only-of-type {\n",
              "        vertical-align: middle;\n",
              "    }\n",
              "\n",
              "    .dataframe tbody tr th {\n",
              "        vertical-align: top;\n",
              "    }\n",
              "\n",
              "    .dataframe thead th {\n",
              "        text-align: right;\n",
              "    }\n",
              "</style>\n",
              "<table border=\"1\" class=\"dataframe\">\n",
              "  <thead>\n",
              "    <tr style=\"text-align: right;\">\n",
              "      <th></th>\n",
              "      <th>sample_id</th>\n",
              "      <th>time</th>\n",
              "      <th>open</th>\n",
              "      <th>high</th>\n",
              "      <th>low</th>\n",
              "      <th>close</th>\n",
              "      <th>volume</th>\n",
              "      <th>quote_av</th>\n",
              "      <th>trades</th>\n",
              "      <th>tb_base_av</th>\n",
              "      <th>tb_quote_av</th>\n",
              "    </tr>\n",
              "    <tr>\n",
              "      <th>coin_index</th>\n",
              "      <th></th>\n",
              "      <th></th>\n",
              "      <th></th>\n",
              "      <th></th>\n",
              "      <th></th>\n",
              "      <th></th>\n",
              "      <th></th>\n",
              "      <th></th>\n",
              "      <th></th>\n",
              "      <th></th>\n",
              "      <th></th>\n",
              "    </tr>\n",
              "  </thead>\n",
              "  <tbody>\n",
              "    <tr>\n",
              "      <th>0</th>\n",
              "      <td>3638.785006</td>\n",
              "      <td>689.5</td>\n",
              "      <td>1.001860</td>\n",
              "      <td>1.002574</td>\n",
              "      <td>1.001126</td>\n",
              "      <td>1.001854</td>\n",
              "      <td>2.068114e+03</td>\n",
              "      <td>6895.755024</td>\n",
              "      <td>14.950617</td>\n",
              "      <td>1.053568e+03</td>\n",
              "      <td>3574.743175</td>\n",
              "    </tr>\n",
              "    <tr>\n",
              "      <th>1</th>\n",
              "      <td>3685.445026</td>\n",
              "      <td>689.5</td>\n",
              "      <td>1.000512</td>\n",
              "      <td>1.001248</td>\n",
              "      <td>0.999764</td>\n",
              "      <td>1.000510</td>\n",
              "      <td>4.754299e-01</td>\n",
              "      <td>125.372142</td>\n",
              "      <td>0.294254</td>\n",
              "      <td>2.346630e-01</td>\n",
              "      <td>61.922350</td>\n",
              "    </tr>\n",
              "    <tr>\n",
              "      <th>2</th>\n",
              "      <td>3821.059406</td>\n",
              "      <td>689.5</td>\n",
              "      <td>0.997462</td>\n",
              "      <td>0.998998</td>\n",
              "      <td>0.995908</td>\n",
              "      <td>0.997467</td>\n",
              "      <td>3.020080e+03</td>\n",
              "      <td>11245.539148</td>\n",
              "      <td>26.567277</td>\n",
              "      <td>1.470193e+03</td>\n",
              "      <td>5483.210560</td>\n",
              "    </tr>\n",
              "    <tr>\n",
              "      <th>3</th>\n",
              "      <td>3638.023256</td>\n",
              "      <td>689.5</td>\n",
              "      <td>0.997814</td>\n",
              "      <td>0.998849</td>\n",
              "      <td>0.996733</td>\n",
              "      <td>0.997821</td>\n",
              "      <td>1.522021e+03</td>\n",
              "      <td>7319.138709</td>\n",
              "      <td>14.079154</td>\n",
              "      <td>7.625896e+02</td>\n",
              "      <td>3666.690156</td>\n",
              "    </tr>\n",
              "    <tr>\n",
              "      <th>4</th>\n",
              "      <td>3744.067742</td>\n",
              "      <td>689.5</td>\n",
              "      <td>1.001291</td>\n",
              "      <td>1.002030</td>\n",
              "      <td>1.000523</td>\n",
              "      <td>1.001284</td>\n",
              "      <td>4.221608e+05</td>\n",
              "      <td>125581.495921</td>\n",
              "      <td>258.879942</td>\n",
              "      <td>2.089920e+05</td>\n",
              "      <td>62427.957998</td>\n",
              "    </tr>\n",
              "    <tr>\n",
              "      <th>5</th>\n",
              "      <td>3563.137615</td>\n",
              "      <td>689.5</td>\n",
              "      <td>1.004781</td>\n",
              "      <td>1.005419</td>\n",
              "      <td>1.004097</td>\n",
              "      <td>1.004750</td>\n",
              "      <td>5.403057e+06</td>\n",
              "      <td>62644.491171</td>\n",
              "      <td>326.565377</td>\n",
              "      <td>2.494798e+06</td>\n",
              "      <td>29447.162735</td>\n",
              "    </tr>\n",
              "    <tr>\n",
              "      <th>6</th>\n",
              "      <td>3636.358685</td>\n",
              "      <td>689.5</td>\n",
              "      <td>1.000878</td>\n",
              "      <td>1.001731</td>\n",
              "      <td>1.000004</td>\n",
              "      <td>1.000870</td>\n",
              "      <td>5.005970e+00</td>\n",
              "      <td>305.405591</td>\n",
              "      <td>0.718290</td>\n",
              "      <td>2.489654e+00</td>\n",
              "      <td>151.985876</td>\n",
              "    </tr>\n",
              "    <tr>\n",
              "      <th>7</th>\n",
              "      <td>3751.730729</td>\n",
              "      <td>689.5</td>\n",
              "      <td>1.000556</td>\n",
              "      <td>1.001324</td>\n",
              "      <td>0.999752</td>\n",
              "      <td>1.000544</td>\n",
              "      <td>2.426671e+06</td>\n",
              "      <td>162866.742656</td>\n",
              "      <td>454.210633</td>\n",
              "      <td>1.193621e+06</td>\n",
              "      <td>80560.207882</td>\n",
              "    </tr>\n",
              "    <tr>\n",
              "      <th>8</th>\n",
              "      <td>3704.675722</td>\n",
              "      <td>689.5</td>\n",
              "      <td>1.000680</td>\n",
              "      <td>1.001496</td>\n",
              "      <td>0.999839</td>\n",
              "      <td>1.000672</td>\n",
              "      <td>1.408839e+00</td>\n",
              "      <td>310.638500</td>\n",
              "      <td>0.531346</td>\n",
              "      <td>7.075279e-01</td>\n",
              "      <td>155.924650</td>\n",
              "    </tr>\n",
              "    <tr>\n",
              "      <th>9</th>\n",
              "      <td>3666.196095</td>\n",
              "      <td>689.5</td>\n",
              "      <td>0.999884</td>\n",
              "      <td>1.000548</td>\n",
              "      <td>0.999192</td>\n",
              "      <td>0.999881</td>\n",
              "      <td>3.969932e-03</td>\n",
              "      <td>31.043333</td>\n",
              "      <td>0.034338</td>\n",
              "      <td>1.999692e-03</td>\n",
              "      <td>15.543617</td>\n",
              "    </tr>\n",
              "  </tbody>\n",
              "</table>\n",
              "</div>"
            ],
            "text/plain": [
              "              sample_id   time  ...    tb_base_av   tb_quote_av\n",
              "coin_index                      ...                            \n",
              "0           3638.785006  689.5  ...  1.053568e+03   3574.743175\n",
              "1           3685.445026  689.5  ...  2.346630e-01     61.922350\n",
              "2           3821.059406  689.5  ...  1.470193e+03   5483.210560\n",
              "3           3638.023256  689.5  ...  7.625896e+02   3666.690156\n",
              "4           3744.067742  689.5  ...  2.089920e+05  62427.957998\n",
              "5           3563.137615  689.5  ...  2.494798e+06  29447.162735\n",
              "6           3636.358685  689.5  ...  2.489654e+00    151.985876\n",
              "7           3751.730729  689.5  ...  1.193621e+06  80560.207882\n",
              "8           3704.675722  689.5  ...  7.075279e-01    155.924650\n",
              "9           3666.196095  689.5  ...  1.999692e-03     15.543617\n",
              "\n",
              "[10 rows x 11 columns]"
            ]
          },
          "metadata": {
            "tags": []
          },
          "execution_count": 57
        }
      ]
    },
    {
      "cell_type": "markdown",
      "metadata": {
        "id": "6j8R6YlzSTRl"
      },
      "source": [
        "#### '코인의 종류(범주형)'와 '변동정도(연속형)'간의 ANOVA\n",
        "\n",
        "- https://junsik-hwang.tistory.com/27\n",
        "- https://alex-blog.tistory.com/entry/%EB%8D%B0%EC%9D%B4%ED%84%B0-%EB%B6%84%EC%84%9D%EC%9D%84-%EC%9C%84%ED%95%9C-%ED%86%B5%EA%B3%84%EB%B6%84%EC%84%9DANOVA-feat-python"
      ]
    },
    {
      "cell_type": "code",
      "metadata": {
        "colab": {
          "base_uri": "https://localhost:8080/",
          "height": 204
        },
        "id": "GKPePHhPSTRl",
        "outputId": "6df1ddaa-c789-4f1c-af31-aa392139e479"
      },
      "source": [
        "# 상한가에서 하한가를 빼어 분당 변동정도를 나타내는 'fluct' 변수 생성\n",
        "train_x_['fluct'] = train_x_['high']-train_x_['low']\n",
        "train_x_.head()"
      ],
      "execution_count": 58,
      "outputs": [
        {
          "output_type": "execute_result",
          "data": {
            "text/html": [
              "<div>\n",
              "<style scoped>\n",
              "    .dataframe tbody tr th:only-of-type {\n",
              "        vertical-align: middle;\n",
              "    }\n",
              "\n",
              "    .dataframe tbody tr th {\n",
              "        vertical-align: top;\n",
              "    }\n",
              "\n",
              "    .dataframe thead th {\n",
              "        text-align: right;\n",
              "    }\n",
              "</style>\n",
              "<table border=\"1\" class=\"dataframe\">\n",
              "  <thead>\n",
              "    <tr style=\"text-align: right;\">\n",
              "      <th></th>\n",
              "      <th>sample_id</th>\n",
              "      <th>time</th>\n",
              "      <th>coin_index</th>\n",
              "      <th>open</th>\n",
              "      <th>high</th>\n",
              "      <th>low</th>\n",
              "      <th>close</th>\n",
              "      <th>volume</th>\n",
              "      <th>quote_av</th>\n",
              "      <th>trades</th>\n",
              "      <th>tb_base_av</th>\n",
              "      <th>tb_quote_av</th>\n",
              "      <th>fluct</th>\n",
              "    </tr>\n",
              "  </thead>\n",
              "  <tbody>\n",
              "    <tr>\n",
              "      <th>0</th>\n",
              "      <td>0</td>\n",
              "      <td>0</td>\n",
              "      <td>7</td>\n",
              "      <td>1.010004</td>\n",
              "      <td>1.010004</td>\n",
              "      <td>1.009612</td>\n",
              "      <td>1.010004</td>\n",
              "      <td>8.382875e+05</td>\n",
              "      <td>43160.632812</td>\n",
              "      <td>451.157288</td>\n",
              "      <td>7.326834e+05</td>\n",
              "      <td>37725.183594</td>\n",
              "      <td>0.000392</td>\n",
              "    </tr>\n",
              "    <tr>\n",
              "      <th>1</th>\n",
              "      <td>0</td>\n",
              "      <td>1</td>\n",
              "      <td>7</td>\n",
              "      <td>1.009808</td>\n",
              "      <td>1.009808</td>\n",
              "      <td>1.009808</td>\n",
              "      <td>1.009808</td>\n",
              "      <td>1.622420e+05</td>\n",
              "      <td>8352.220703</td>\n",
              "      <td>39.231071</td>\n",
              "      <td>0.000000e+00</td>\n",
              "      <td>0.000000</td>\n",
              "      <td>0.000000</td>\n",
              "    </tr>\n",
              "    <tr>\n",
              "      <th>2</th>\n",
              "      <td>0</td>\n",
              "      <td>2</td>\n",
              "      <td>7</td>\n",
              "      <td>1.009808</td>\n",
              "      <td>1.010200</td>\n",
              "      <td>1.009808</td>\n",
              "      <td>1.010200</td>\n",
              "      <td>1.664967e+04</td>\n",
              "      <td>857.377808</td>\n",
              "      <td>58.846603</td>\n",
              "      <td>1.664967e+04</td>\n",
              "      <td>857.377808</td>\n",
              "      <td>0.000392</td>\n",
              "    </tr>\n",
              "    <tr>\n",
              "      <th>3</th>\n",
              "      <td>0</td>\n",
              "      <td>3</td>\n",
              "      <td>7</td>\n",
              "      <td>1.010200</td>\n",
              "      <td>1.011181</td>\n",
              "      <td>1.010200</td>\n",
              "      <td>1.011181</td>\n",
              "      <td>2.586971e+06</td>\n",
              "      <td>133310.343750</td>\n",
              "      <td>431.541779</td>\n",
              "      <td>2.189147e+06</td>\n",
              "      <td>112811.046875</td>\n",
              "      <td>0.000981</td>\n",
              "    </tr>\n",
              "    <tr>\n",
              "      <th>4</th>\n",
              "      <td>0</td>\n",
              "      <td>4</td>\n",
              "      <td>7</td>\n",
              "      <td>1.010985</td>\n",
              "      <td>1.010985</td>\n",
              "      <td>1.010200</td>\n",
              "      <td>1.010200</td>\n",
              "      <td>1.129996e+06</td>\n",
              "      <td>58216.867188</td>\n",
              "      <td>176.539810</td>\n",
              "      <td>0.000000e+00</td>\n",
              "      <td>0.000000</td>\n",
              "      <td>0.000785</td>\n",
              "    </tr>\n",
              "  </tbody>\n",
              "</table>\n",
              "</div>"
            ],
            "text/plain": [
              "   sample_id  time  coin_index  ...    tb_base_av    tb_quote_av     fluct\n",
              "0          0     0           7  ...  7.326834e+05   37725.183594  0.000392\n",
              "1          0     1           7  ...  0.000000e+00       0.000000  0.000000\n",
              "2          0     2           7  ...  1.664967e+04     857.377808  0.000392\n",
              "3          0     3           7  ...  2.189147e+06  112811.046875  0.000981\n",
              "4          0     4           7  ...  0.000000e+00       0.000000  0.000785\n",
              "\n",
              "[5 rows x 13 columns]"
            ]
          },
          "metadata": {
            "tags": []
          },
          "execution_count": 58
        }
      ]
    },
    {
      "cell_type": "code",
      "metadata": {
        "colab": {
          "base_uri": "https://localhost:8080/"
        },
        "id": "desKJ9aTSTRl",
        "outputId": "b8d715f8-3e22-4d53-baf3-124299e059f9"
      },
      "source": [
        "train_x_.groupby('coin_index').mean().fluct"
      ],
      "execution_count": 59,
      "outputs": [
        {
          "output_type": "execute_result",
          "data": {
            "text/plain": [
              "coin_index\n",
              "0    0.001448\n",
              "1    0.001485\n",
              "2    0.003090\n",
              "3    0.002117\n",
              "4    0.001507\n",
              "5    0.001322\n",
              "6    0.001727\n",
              "7    0.001572\n",
              "8    0.001657\n",
              "9    0.001356\n",
              "Name: fluct, dtype: float64"
            ]
          },
          "metadata": {
            "tags": []
          },
          "execution_count": 59
        }
      ]
    },
    {
      "cell_type": "code",
      "metadata": {
        "colab": {
          "base_uri": "https://localhost:8080/"
        },
        "id": "jHZgwo6jSTRm",
        "outputId": "da3887a5-1744-421e-d58c-e4827d27693a"
      },
      "source": [
        "# 'coin index'칼럼의 데이터 타입확인\n",
        "train_x_['coin_index'].dtype"
      ],
      "execution_count": 60,
      "outputs": [
        {
          "output_type": "execute_result",
          "data": {
            "text/plain": [
              "dtype('int64')"
            ]
          },
          "metadata": {
            "tags": []
          },
          "execution_count": 60
        }
      ]
    },
    {
      "cell_type": "code",
      "metadata": {
        "colab": {
          "base_uri": "https://localhost:8080/"
        },
        "id": "6W-8MeC8STRm",
        "outputId": "54f912c3-256c-4bcc-ddd3-365beaa848d9"
      },
      "source": [
        "# 범주형으로 바꿔준다!\n",
        "train_x_['coin_index'] = train_x_['coin_index'].astype('category')\n",
        "train_x_['coin_index'].dtype"
      ],
      "execution_count": 61,
      "outputs": [
        {
          "output_type": "execute_result",
          "data": {
            "text/plain": [
              "CategoricalDtype(categories=[0, 1, 2, 3, 4, 5, 6, 7, 8, 9], ordered=False)"
            ]
          },
          "metadata": {
            "tags": []
          },
          "execution_count": 61
        }
      ]
    },
    {
      "cell_type": "code",
      "metadata": {
        "id": "mH9TTTaFSTRm"
      },
      "source": [
        "x0 = np.array(train_x_[train_x_.coin_index == 0].fluct)\n",
        "x1 = np.array(train_x_[train_x_.coin_index == 1].fluct)\n",
        "x2 = np.array(train_x_[train_x_.coin_index == 2].fluct)\n",
        "x3 = np.array(train_x_[train_x_.coin_index == 3].fluct)\n",
        "x4 = np.array(train_x_[train_x_.coin_index == 4].fluct)\n",
        "x5 = np.array(train_x_[train_x_.coin_index == 5].fluct)\n",
        "x6 = np.array(train_x_[train_x_.coin_index == 6].fluct)\n",
        "x7 = np.array(train_x_[train_x_.coin_index == 7].fluct)\n",
        "x8 = np.array(train_x_[train_x_.coin_index == 8].fluct)\n",
        "x9 = np.array(train_x_[train_x_.coin_index == 9].fluct)"
      ],
      "execution_count": 62,
      "outputs": []
    },
    {
      "cell_type": "code",
      "metadata": {
        "colab": {
          "base_uri": "https://localhost:8080/"
        },
        "id": "7vq2BNXESTRm",
        "outputId": "92b4e306-1362-4149-e4ea-50a10e587adc"
      },
      "source": [
        "F_statistic, pVal = stats.f_oneway(x0, x1, x2, x3, x4, x5, x6, x7, x8, x9)\n",
        "print('데이터의 일원분산분석 결과 : F=%.2f , p=%.10f ' %(F_statistic, pVal))"
      ],
      "execution_count": 63,
      "outputs": [
        {
          "output_type": "stream",
          "text": [
            "데이터의 일원분산분석 결과 : F=9689.64 , p=0.0000000000 \n"
          ],
          "name": "stdout"
        }
      ]
    },
    {
      "cell_type": "code",
      "metadata": {
        "colab": {
          "base_uri": "https://localhost:8080/"
        },
        "id": "_W-v41UUSTRn",
        "outputId": "cc0cf0e8-589a-4a71-c2cd-55479d4c7b9e"
      },
      "source": [
        "# 정규성 가정을 충족하지 않았을 때\n",
        "stats.kruskal(x0, x1, x2, x3, x4, x5, x6, x7, x8, x9)"
      ],
      "execution_count": 64,
      "outputs": [
        {
          "output_type": "execute_result",
          "data": {
            "text/plain": [
              "KruskalResult(statistic=676556.3274807257, pvalue=0.0)"
            ]
          },
          "metadata": {
            "tags": []
          },
          "execution_count": 64
        }
      ]
    },
    {
      "cell_type": "code",
      "metadata": {
        "colab": {
          "base_uri": "https://localhost:8080/",
          "height": 80
        },
        "id": "deo6FTGXSTRn",
        "outputId": "484d687a-508d-4a0a-99ba-9c885ab0872d"
      },
      "source": [
        "# 등분산성 가정을 충족하지 않았을 때\n",
        "aov = welch_anova(dv='fluct', between='coin_index', data=train_x_) \n",
        "aov"
      ],
      "execution_count": 65,
      "outputs": [
        {
          "output_type": "execute_result",
          "data": {
            "text/html": [
              "<div>\n",
              "<style scoped>\n",
              "    .dataframe tbody tr th:only-of-type {\n",
              "        vertical-align: middle;\n",
              "    }\n",
              "\n",
              "    .dataframe tbody tr th {\n",
              "        vertical-align: top;\n",
              "    }\n",
              "\n",
              "    .dataframe thead th {\n",
              "        text-align: right;\n",
              "    }\n",
              "</style>\n",
              "<table border=\"1\" class=\"dataframe\">\n",
              "  <thead>\n",
              "    <tr style=\"text-align: right;\">\n",
              "      <th></th>\n",
              "      <th>Source</th>\n",
              "      <th>ddof1</th>\n",
              "      <th>ddof2</th>\n",
              "      <th>F</th>\n",
              "      <th>p-unc</th>\n",
              "      <th>np2</th>\n",
              "    </tr>\n",
              "  </thead>\n",
              "  <tbody>\n",
              "    <tr>\n",
              "      <th>0</th>\n",
              "      <td>coin_index</td>\n",
              "      <td>9</td>\n",
              "      <td>1.761514e+06</td>\n",
              "      <td>5424.182271</td>\n",
              "      <td>0.0</td>\n",
              "      <td>0.008511</td>\n",
              "    </tr>\n",
              "  </tbody>\n",
              "</table>\n",
              "</div>"
            ],
            "text/plain": [
              "       Source  ddof1         ddof2            F  p-unc       np2\n",
              "0  coin_index      9  1.761514e+06  5424.182271    0.0  0.008511"
            ]
          },
          "metadata": {
            "tags": []
          },
          "execution_count": 65
        }
      ]
    },
    {
      "cell_type": "markdown",
      "metadata": {
        "id": "xaci4NvnSTRn"
      },
      "source": [
        "**=> 모든 경우에서 'coin_index' 간에 유의미한 차이가 있음을 나타냄!**"
      ]
    },
    {
      "cell_type": "markdown",
      "metadata": {
        "id": "jYRhdW-RSTRn"
      },
      "source": [
        "#### 연속형 변수들의 상관계수 확인"
      ]
    },
    {
      "cell_type": "code",
      "metadata": {
        "id": "UOkw10pESTRn"
      },
      "source": [
        "train_x__ = train_x_.copy()"
      ],
      "execution_count": 66,
      "outputs": []
    },
    {
      "cell_type": "code",
      "metadata": {
        "colab": {
          "base_uri": "https://localhost:8080/",
          "height": 359
        },
        "id": "1vnG0P-ySTRn",
        "outputId": "89b9031e-7551-449b-f118-314189b8cb94"
      },
      "source": [
        "# 상관행렬\n",
        "train_x__.drop(['time','sample_id','coin_index'], axis = 1, inplace=True) # 'time','sample_id' 칼럼은 drop\n",
        "corr_df = train_x__.corr()\n",
        "corr_df"
      ],
      "execution_count": 67,
      "outputs": [
        {
          "output_type": "execute_result",
          "data": {
            "text/html": [
              "<div>\n",
              "<style scoped>\n",
              "    .dataframe tbody tr th:only-of-type {\n",
              "        vertical-align: middle;\n",
              "    }\n",
              "\n",
              "    .dataframe tbody tr th {\n",
              "        vertical-align: top;\n",
              "    }\n",
              "\n",
              "    .dataframe thead th {\n",
              "        text-align: right;\n",
              "    }\n",
              "</style>\n",
              "<table border=\"1\" class=\"dataframe\">\n",
              "  <thead>\n",
              "    <tr style=\"text-align: right;\">\n",
              "      <th></th>\n",
              "      <th>open</th>\n",
              "      <th>high</th>\n",
              "      <th>low</th>\n",
              "      <th>close</th>\n",
              "      <th>volume</th>\n",
              "      <th>quote_av</th>\n",
              "      <th>trades</th>\n",
              "      <th>tb_base_av</th>\n",
              "      <th>tb_quote_av</th>\n",
              "      <th>fluct</th>\n",
              "    </tr>\n",
              "  </thead>\n",
              "  <tbody>\n",
              "    <tr>\n",
              "      <th>open</th>\n",
              "      <td>1.000000</td>\n",
              "      <td>0.998631</td>\n",
              "      <td>0.999254</td>\n",
              "      <td>0.999071</td>\n",
              "      <td>0.009158</td>\n",
              "      <td>0.025290</td>\n",
              "      <td>0.022769</td>\n",
              "      <td>0.004867</td>\n",
              "      <td>0.019132</td>\n",
              "      <td>0.030392</td>\n",
              "    </tr>\n",
              "    <tr>\n",
              "      <th>high</th>\n",
              "      <td>0.998631</td>\n",
              "      <td>1.000000</td>\n",
              "      <td>0.997830</td>\n",
              "      <td>0.998898</td>\n",
              "      <td>0.014944</td>\n",
              "      <td>0.033986</td>\n",
              "      <td>0.032518</td>\n",
              "      <td>0.011817</td>\n",
              "      <td>0.029751</td>\n",
              "      <td>0.072756</td>\n",
              "    </tr>\n",
              "    <tr>\n",
              "      <th>low</th>\n",
              "      <td>0.999254</td>\n",
              "      <td>0.997830</td>\n",
              "      <td>1.000000</td>\n",
              "      <td>0.999315</td>\n",
              "      <td>0.002101</td>\n",
              "      <td>0.014780</td>\n",
              "      <td>0.011092</td>\n",
              "      <td>0.001434</td>\n",
              "      <td>0.012224</td>\n",
              "      <td>0.006923</td>\n",
              "    </tr>\n",
              "    <tr>\n",
              "      <th>close</th>\n",
              "      <td>0.999071</td>\n",
              "      <td>0.998898</td>\n",
              "      <td>0.999315</td>\n",
              "      <td>1.000000</td>\n",
              "      <td>0.008074</td>\n",
              "      <td>0.024175</td>\n",
              "      <td>0.021432</td>\n",
              "      <td>0.007229</td>\n",
              "      <td>0.022276</td>\n",
              "      <td>0.033522</td>\n",
              "    </tr>\n",
              "    <tr>\n",
              "      <th>volume</th>\n",
              "      <td>0.009158</td>\n",
              "      <td>0.014944</td>\n",
              "      <td>0.002101</td>\n",
              "      <td>0.008074</td>\n",
              "      <td>1.000000</td>\n",
              "      <td>0.420857</td>\n",
              "      <td>0.573042</td>\n",
              "      <td>0.794751</td>\n",
              "      <td>0.372958</td>\n",
              "      <td>0.195106</td>\n",
              "    </tr>\n",
              "    <tr>\n",
              "      <th>quote_av</th>\n",
              "      <td>0.025290</td>\n",
              "      <td>0.033986</td>\n",
              "      <td>0.014780</td>\n",
              "      <td>0.024175</td>\n",
              "      <td>0.420857</td>\n",
              "      <td>1.000000</td>\n",
              "      <td>0.826307</td>\n",
              "      <td>0.344711</td>\n",
              "      <td>0.920649</td>\n",
              "      <td>0.292242</td>\n",
              "    </tr>\n",
              "    <tr>\n",
              "      <th>trades</th>\n",
              "      <td>0.022769</td>\n",
              "      <td>0.032518</td>\n",
              "      <td>0.011092</td>\n",
              "      <td>0.021432</td>\n",
              "      <td>0.573042</td>\n",
              "      <td>0.826307</td>\n",
              "      <td>1.000000</td>\n",
              "      <td>0.466903</td>\n",
              "      <td>0.754661</td>\n",
              "      <td>0.325820</td>\n",
              "    </tr>\n",
              "    <tr>\n",
              "      <th>tb_base_av</th>\n",
              "      <td>0.004867</td>\n",
              "      <td>0.011817</td>\n",
              "      <td>0.001434</td>\n",
              "      <td>0.007229</td>\n",
              "      <td>0.794751</td>\n",
              "      <td>0.344711</td>\n",
              "      <td>0.466903</td>\n",
              "      <td>1.000000</td>\n",
              "      <td>0.425748</td>\n",
              "      <td>0.157734</td>\n",
              "    </tr>\n",
              "    <tr>\n",
              "      <th>tb_quote_av</th>\n",
              "      <td>0.019132</td>\n",
              "      <td>0.029751</td>\n",
              "      <td>0.012224</td>\n",
              "      <td>0.022276</td>\n",
              "      <td>0.372958</td>\n",
              "      <td>0.920649</td>\n",
              "      <td>0.754661</td>\n",
              "      <td>0.425748</td>\n",
              "      <td>1.000000</td>\n",
              "      <td>0.266652</td>\n",
              "    </tr>\n",
              "    <tr>\n",
              "      <th>fluct</th>\n",
              "      <td>0.030392</td>\n",
              "      <td>0.072756</td>\n",
              "      <td>0.006923</td>\n",
              "      <td>0.033522</td>\n",
              "      <td>0.195106</td>\n",
              "      <td>0.292242</td>\n",
              "      <td>0.325820</td>\n",
              "      <td>0.157734</td>\n",
              "      <td>0.266652</td>\n",
              "      <td>1.000000</td>\n",
              "    </tr>\n",
              "  </tbody>\n",
              "</table>\n",
              "</div>"
            ],
            "text/plain": [
              "                 open      high       low  ...  tb_base_av  tb_quote_av     fluct\n",
              "open         1.000000  0.998631  0.999254  ...    0.004867     0.019132  0.030392\n",
              "high         0.998631  1.000000  0.997830  ...    0.011817     0.029751  0.072756\n",
              "low          0.999254  0.997830  1.000000  ...    0.001434     0.012224  0.006923\n",
              "close        0.999071  0.998898  0.999315  ...    0.007229     0.022276  0.033522\n",
              "volume       0.009158  0.014944  0.002101  ...    0.794751     0.372958  0.195106\n",
              "quote_av     0.025290  0.033986  0.014780  ...    0.344711     0.920649  0.292242\n",
              "trades       0.022769  0.032518  0.011092  ...    0.466903     0.754661  0.325820\n",
              "tb_base_av   0.004867  0.011817  0.001434  ...    1.000000     0.425748  0.157734\n",
              "tb_quote_av  0.019132  0.029751  0.012224  ...    0.425748     1.000000  0.266652\n",
              "fluct        0.030392  0.072756  0.006923  ...    0.157734     0.266652  1.000000\n",
              "\n",
              "[10 rows x 10 columns]"
            ]
          },
          "metadata": {
            "tags": []
          },
          "execution_count": 67
        }
      ]
    },
    {
      "cell_type": "markdown",
      "metadata": {
        "id": "2P8CFQhqSTRo"
      },
      "source": [
        "주목할 부분은\n",
        "- open-high-low-close\n",
        "- trades-(tb_base_av,tb_quote_av)\n",
        "- volume-tb_vase_av"
      ]
    },
    {
      "cell_type": "markdown",
      "metadata": {
        "id": "q8fkUH_FSTRo"
      },
      "source": [
        "## 3. LSTM(Keras) 적용"
      ]
    },
    {
      "cell_type": "code",
      "metadata": {
        "colab": {
          "base_uri": "https://localhost:8080/"
        },
        "id": "X_z0foyNV7Ot",
        "outputId": "0b7a7073-6f13-4565-9396-2e64fa60773e"
      },
      "source": [
        "train_x[train_x['coin_index']==7]['sample_id'].unique()"
      ],
      "execution_count": 68,
      "outputs": [
        {
          "output_type": "execute_result",
          "data": {
            "text/plain": [
              "array([   0,   15,   18,   22,   25,   33,   35,   45,   63,   67,   74,\n",
              "         77,   88,  100,  112,  120,  122,  136,  142,  150,  165,  178,\n",
              "        196,  205,  225,  237,  279,  289,  299,  306,  307,  311,  330,\n",
              "        334,  341,  357,  362,  363,  376,  392,  393,  398,  404,  406,\n",
              "        417,  418,  432,  442,  444,  447,  472,  475,  479,  482,  484,\n",
              "        496,  503,  510,  527,  531,  533,  535,  547,  548,  557,  560,\n",
              "        564,  568,  580,  585,  586,  592,  605,  613,  617,  622,  629,\n",
              "        632,  651,  654,  670,  684,  685,  694,  697,  703,  714,  715,\n",
              "        716,  738,  740,  751,  761,  769,  784,  788,  791,  793,  796,\n",
              "        807,  812,  822,  843,  844,  854,  855,  864,  873,  879,  887,\n",
              "        892,  898,  901,  906,  908,  912,  920,  928,  932,  935,  953,\n",
              "        954,  964,  965,  967,  983, 1003, 1030, 1032, 1039, 1042, 1047,\n",
              "       1052, 1054, 1055, 1056, 1059, 1060, 1061, 1088, 1092, 1095, 1105,\n",
              "       1106, 1112, 1113, 1114, 1121, 1125, 1128, 1134, 1136, 1144, 1162,\n",
              "       1166, 1174, 1178, 1210, 1223, 1225, 1227, 1240, 1243, 1246, 1252,\n",
              "       1255, 1267, 1287, 1292, 1319, 1325, 1333, 1345, 1362, 1370, 1373,\n",
              "       1384, 1387, 1392, 1416, 1434, 1439, 1446, 1456, 1475, 1483, 1491,\n",
              "       1496, 1499, 1510, 1513, 1515, 1524, 1527, 1543, 1546, 1548, 1555,\n",
              "       1559, 1588, 1589, 1597, 1613, 1614, 1618, 1627, 1637, 1652, 1659,\n",
              "       1660, 1665, 1671, 1673, 1680, 1687, 1690, 1697, 1703, 1750, 1765,\n",
              "       1783, 1787, 1788, 1792, 1800, 1818, 1824, 1829, 1833, 1844, 1846,\n",
              "       1852, 1853, 1875, 1877, 1931, 1938, 1944, 1948, 1950, 1951, 1958,\n",
              "       1962, 1968, 1970, 1973, 1984, 1986, 1993, 1998, 1999, 2000, 2025,\n",
              "       2033, 2038, 2041, 2044, 2049, 2052, 2053, 2054, 2070, 2078, 2083,\n",
              "       2092, 2101, 2104, 2107, 2115, 2116, 2123, 2127, 2132, 2133, 2135,\n",
              "       2139, 2146, 2154, 2163, 2183, 2186, 2190, 2224, 2232, 2235, 2243,\n",
              "       2254, 2261, 2270, 2272, 2278, 2288, 2302, 2312, 2321, 2338, 2340,\n",
              "       2345, 2377, 2381, 2382, 2389, 2392, 2394, 2397, 2398, 2401, 2409,\n",
              "       2414, 2419, 2420, 2421, 2434, 2437, 2443, 2452, 2458, 2465, 2475,\n",
              "       2499, 2512, 2519, 2527, 2528, 2554, 2562, 2564, 2567, 2568, 2575,\n",
              "       2579, 2585, 2590, 2596, 2598, 2611, 2613, 2618, 2635, 2638, 2641,\n",
              "       2643, 2649, 2666, 2670, 2671, 2673, 2700, 2713, 2720, 2728, 2737,\n",
              "       2779, 2782, 2784, 2797, 2804, 2805, 2821, 2822, 2824, 2829, 2831,\n",
              "       2855, 2871, 2875, 2877, 2880, 2888, 2889, 2908, 2915, 2916, 2924,\n",
              "       2943, 2947, 2957, 2973, 3002, 3007, 3009, 3014, 3015, 3022, 3043,\n",
              "       3053, 3058, 3065, 3072, 3079, 3086, 3097, 3113, 3115, 3129, 3136,\n",
              "       3139, 3141, 3145, 3173, 3184, 3191, 3200, 3203, 3216, 3228, 3231,\n",
              "       3257, 3259, 3279, 3280, 3293, 3294, 3299, 3334, 3338, 3340, 3344,\n",
              "       3348, 3349, 3361, 3370, 3386, 3402, 3410, 3414, 3419, 3422, 3429,\n",
              "       3431, 3434, 3443, 3444, 3447, 3451, 3452, 3454, 3459, 3462, 3472,\n",
              "       3475, 3481, 3482, 3491, 3495, 3521, 3524, 3530, 3540, 3548, 3560,\n",
              "       3568, 3588, 3655, 3656, 3657, 3659, 3666, 3682, 3683, 3710, 3713,\n",
              "       3719, 3724, 3728, 3748, 3759, 3785, 3812, 3829, 3835, 3842, 3857,\n",
              "       3866, 3867, 3881, 3882, 3886, 3894, 3897, 3901, 3907, 3909, 3921,\n",
              "       3940, 3943, 3960, 3961, 3965, 3966, 3967, 3974, 3983, 3984, 3985,\n",
              "       3986, 3994, 4001, 4012, 4019, 4033, 4035, 4040, 4051, 4054, 4063,\n",
              "       4065, 4070, 4071, 4074, 4084, 4100, 4105, 4113, 4122, 4130, 4141,\n",
              "       4144, 4157, 4186, 4187, 4191, 4193, 4205, 4224, 4230, 4242, 4245,\n",
              "       4250, 4257, 4259, 4260, 4262, 4270, 4273, 4282, 4286, 4290, 4293,\n",
              "       4302, 4314, 4323, 4339, 4346, 4349, 4358, 4364, 4372, 4379, 4380,\n",
              "       4393, 4395, 4397, 4400, 4404, 4408, 4412, 4418, 4425, 4427, 4439,\n",
              "       4442, 4450, 4451, 4454, 4457, 4461, 4474, 4482, 4495, 4497, 4503,\n",
              "       4509, 4522, 4533, 4545, 4546, 4549, 4564, 4578, 4580, 4581, 4587,\n",
              "       4608, 4609, 4611, 4640, 4659, 4660, 4679, 4682, 4699, 4706, 4713,\n",
              "       4717, 4734, 4739, 4761, 4770, 4778, 4780, 4802, 4803, 4826, 4834,\n",
              "       4836, 4837, 4847, 4850, 4859, 4861, 4867, 4879, 4894, 4896, 4897,\n",
              "       4898, 4902, 4906, 4914, 4919, 4960, 4966, 4971, 4990, 4991, 5014,\n",
              "       5022, 5025, 5026, 5034, 5035, 5039, 5044, 5056, 5060, 5067, 5068,\n",
              "       5081, 5092, 5104, 5109, 5117, 5126, 5133, 5136, 5154, 5157, 5167,\n",
              "       5182, 5190, 5197, 5222, 5227, 5228, 5245, 5253, 5258, 5262, 5267,\n",
              "       5270, 5291, 5294, 5325, 5331, 5332, 5347, 5351, 5354, 5358, 5362,\n",
              "       5367, 5371, 5383, 5384, 5393, 5404, 5408, 5426, 5438, 5448, 5453,\n",
              "       5455, 5461, 5475, 5477, 5487, 5490, 5500, 5504, 5505, 5508, 5511,\n",
              "       5512, 5518, 5525, 5530, 5555, 5581, 5582, 5586, 5593, 5612, 5623,\n",
              "       5624, 5627, 5634, 5643, 5645, 5646, 5653, 5657, 5673, 5679, 5692,\n",
              "       5699, 5700, 5704, 5706, 5707, 5711, 5717, 5718, 5722, 5730, 5735,\n",
              "       5746, 5748, 5761, 5772, 5777, 5781, 5786, 5788, 5791, 5800, 5820,\n",
              "       5826, 5834, 5837, 5838, 5845, 5846, 5851, 5855, 5860, 5870, 5874,\n",
              "       5888, 5895, 5908, 5916, 5923, 5925, 5932, 5959, 5969, 5972, 5982,\n",
              "       5998, 6012, 6030, 6032, 6039, 6046, 6058, 6061, 6065, 6094, 6095,\n",
              "       6101, 6103, 6105, 6106, 6112, 6115, 6143, 6145, 6151, 6174, 6176,\n",
              "       6181, 6187, 6194, 6195, 6219, 6225, 6245, 6248, 6254, 6257, 6259,\n",
              "       6263, 6265, 6287, 6288, 6291, 6297, 6320, 6323, 6333, 6339, 6352,\n",
              "       6368, 6388, 6396, 6398, 6402, 6408, 6411, 6415, 6417, 6423, 6424,\n",
              "       6427, 6433, 6461, 6466, 6472, 6474, 6479, 6482, 6483, 6484, 6485,\n",
              "       6495, 6505, 6513, 6525, 6553, 6556, 6558, 6565, 6566, 6571, 6581,\n",
              "       6591, 6604, 6608, 6615, 6618, 6634, 6639, 6640, 6644, 6666, 6667,\n",
              "       6677, 6700, 6701, 6706, 6727, 6728, 6735, 6749, 6758, 6761, 6790,\n",
              "       6791, 6795, 6799, 6808, 6814, 6824, 6829, 6830, 6839, 6840, 6850,\n",
              "       6852, 6866, 6871, 6879, 6880, 6883, 6889, 6896, 6904, 6910, 6911,\n",
              "       6912, 6914, 6920, 6926, 6931, 6932, 6937, 6961, 6965, 6966, 6976,\n",
              "       6978, 6982, 6988, 6995, 7000, 7030, 7032, 7050, 7053, 7057, 7061,\n",
              "       7064, 7067, 7088, 7089, 7096, 7110, 7119, 7120, 7148, 7152, 7154,\n",
              "       7158, 7168, 7169, 7172, 7175, 7188, 7197, 7198, 7202, 7207, 7212,\n",
              "       7215, 7228, 7234, 7235, 7236, 7238, 7239, 7245, 7246, 7258, 7261,\n",
              "       7264, 7267, 7308, 7315, 7317, 7320, 7321, 7324, 7333, 7339, 7345,\n",
              "       7348])"
            ]
          },
          "metadata": {
            "tags": []
          },
          "execution_count": 68
        }
      ]
    },
    {
      "cell_type": "markdown",
      "metadata": {
        "id": "sVanKY0xW21c"
      },
      "source": [
        "**=> coin_index가 7인 0번, 15번, 18번 데이터를 써보자**"
      ]
    },
    {
      "cell_type": "code",
      "metadata": {
        "colab": {
          "base_uri": "https://localhost:8080/"
        },
        "id": "WuEyjL0XSTRo",
        "outputId": "88f69421-24a1-4295-f97e-08e663be497f"
      },
      "source": [
        "'''\n",
        "# train: 0번 샘플, val: 15번 샘플, test: 18번 샘플\n",
        "Train_x = train_x[train_x['sample_id']==0]\n",
        "Train_y = train_y[train_y['sample_id']==0]\n",
        "Val_x = train_x[train_x['sample_id']==15]\n",
        "Val_y = train_y[train_y['sample_id']==15]\n",
        "Test_x = train_x[train_x['sample_id']==18]\n",
        "Test_y = train_y[train_y['sample_id']==18]\n",
        "\n",
        "print(Train_x.shape, Val_x.shape, Test_x.shape)\n",
        "'''"
      ],
      "execution_count": 102,
      "outputs": [
        {
          "output_type": "stream",
          "text": [
            "(1380, 12) (1380, 12) (1380, 12)\n"
          ],
          "name": "stdout"
        }
      ]
    },
    {
      "cell_type": "markdown",
      "metadata": {
        "id": "I4IudM2aSTRo"
      },
      "source": [
        "#### 데이터 스케일링"
      ]
    },
    {
      "cell_type": "code",
      "metadata": {
        "colab": {
          "base_uri": "https://localhost:8080/",
          "height": 120
        },
        "id": "OJNaNpYTSTRo",
        "outputId": "3c23af07-6663-4bde-bdfd-bd5233cc308a"
      },
      "source": [
        "'''\n",
        "from sklearn.preprocessing import MinMaxScaler\n",
        "\n",
        "scaler = MinMaxScaler()\n",
        "cols = ['open', 'high', 'low', 'close', 'volume']\n",
        "\n",
        "# train\n",
        "Train_x_scaled = scaler.fit_transform(Train_x[cols])\n",
        "Train_x_df = pd.DataFrame(Train_x_scaled)\n",
        "Train_x_df.columns = cols\n",
        "Train_y_scaled = scaler.fit_transform(Train_y[cols])\n",
        "Train_y_df = pd.DataFrame(Train_y_scaled)\n",
        "Train_y_df.columns = cols\n",
        "\n",
        "# val\n",
        "Val_x_scaled = scaler.fit_transform(Val_x[cols])\n",
        "Val_x_df = pd.DataFrame(Val_x_scaled)\n",
        "Val_x_df.columns = cols\n",
        "Val_y_scaled = scaler.fit_transform(Val_y[cols])\n",
        "Val_y_df = pd.DataFrame(Val_y_scaled)\n",
        "Val_y_df.columns = cols\n",
        "\n",
        "# test\n",
        "Test_x_scaled = scaler.fit_transform(Test_x[cols])\n",
        "Test_x_df = pd.DataFrame(Test_x_scaled)\n",
        "Test_x_df.columns = cols\n",
        "Test_y_scaled = scaler.fit_transform(Test_y[cols])\n",
        "Test_y_df = pd.DataFrame(Test_y_scaled)\n",
        "Test_y_df.columns = cols\n",
        "'''"
      ],
      "execution_count": 103,
      "outputs": [
        {
          "output_type": "execute_result",
          "data": {
            "application/vnd.google.colaboratory.intrinsic+json": {
              "type": "string"
            },
            "text/plain": [
              "\"\\nfrom sklearn.preprocessing import MinMaxScaler\\n\\nscaler = MinMaxScaler()\\ncols = ['open', 'high', 'low', 'close', 'volume']\\n\\n# train\\nTrain_x_scaled = scaler.fit_transform(Train_x[cols])\\nTrain_x_df = pd.DataFrame(Train_x_scaled)\\nTrain_x_df.columns = cols\\nTrain_y_scaled = scaler.fit_transform(Train_y[cols])\\nTrain_y_df = pd.DataFrame(Train_y_scaled)\\nTrain_y_df.columns = cols\\n\\n# val\\nVal_x_scaled = scaler.fit_transform(Val_x[cols])\\nVal_x_df = pd.DataFrame(Val_x_scaled)\\nVal_x_df.columns = cols\\nVal_y_scaled = scaler.fit_transform(Val_y[cols])\\nVal_y_df = pd.DataFrame(Val_y_scaled)\\nVal_y_df.columns = cols\\n\\n# test\\nTest_x_scaled = scaler.fit_transform(Test_x[cols])\\nTest_x_df = pd.DataFrame(Test_x_scaled)\\nTest_x_df.columns = cols\\nTest_y_scaled = scaler.fit_transform(Test_y[cols])\\nTest_y_df = pd.DataFrame(Test_y_scaled)\\nTest_y_df.columns = cols\\n\""
            ]
          },
          "metadata": {
            "tags": []
          },
          "execution_count": 103
        }
      ]
    },
    {
      "cell_type": "markdown",
      "metadata": {
        "id": "Pd0oWlCUZ0lV"
      },
      "source": [
        "#### 3차원으로 변경"
      ]
    },
    {
      "cell_type": "code",
      "metadata": {
        "id": "nx2eB-SDZBeY"
      },
      "source": [
        "# 입력 받은 2차원 데이터 프레임을 3차원 numpy array로 변경하는 함수\n",
        "\n",
        "def df2d_to_array3d(df_2d):\n",
        " \n",
        "    feature_size = df_2d.iloc[:,2:].shape[1]\n",
        "    time_size = len(df_2d.time.value_counts())\n",
        "    sample_size = len(df_2d.sample_id.value_counts())\n",
        "    sample_index = df_2d.sample_id.value_counts().index\n",
        "    array_3d = df_2d.iloc[:,2:].values.reshape([sample_size, time_size, feature_size])\n",
        "    return array_3d"
      ],
      "execution_count": 104,
      "outputs": []
    },
    {
      "cell_type": "code",
      "metadata": {
        "id": "HbI1BygHgtoy"
      },
      "source": [
        "data = train_x[train_x['coin_index']==7]\n"
      ],
      "execution_count": 111,
      "outputs": []
    },
    {
      "cell_type": "code",
      "metadata": {
        "id": "c__S1k8OhNm6"
      },
      "source": [
        "train = data.loc[:801, ]\n",
        "val = data.loc[801:947, ] \n",
        "test = data.loc[947:948, ] # 마지막 하나만 test"
      ],
      "execution_count": null,
      "outputs": []
    },
    {
      "cell_type": "code",
      "metadata": {
        "id": "mvk93hvbiJb4"
      },
      "source": [
        "train_arr = df2d_to_array3d(trai)"
      ],
      "execution_count": null,
      "outputs": []
    },
    {
      "cell_type": "code",
      "metadata": {
        "id": "_QcDWNunZ3kR"
      },
      "source": [
        "'''\n",
        "train_x_arr = df2d_to_array3d(Train_x)\n",
        "train_y_arr = df2d_to_array3d(Train_y)\n",
        "val_x_arr = df2d_to_array3d(Val_x)\n",
        "val_y_arr = df2d_to_array3d(Val_y)\n",
        "test_x_arr = df2d_to_array3d(Test_x)\n",
        "test_y_arr = df2d_to_array3d(Test_y)\n",
        "'''"
      ],
      "execution_count": 105,
      "outputs": []
    },
    {
      "cell_type": "code",
      "metadata": {
        "colab": {
          "base_uri": "https://localhost:8080/"
        },
        "id": "gteonTx1dIfD",
        "outputId": "158bd5e9-9ea6-4b66-94ff-67dedbc28dde"
      },
      "source": [
        "#train_x_arr.shape"
      ],
      "execution_count": 106,
      "outputs": [
        {
          "output_type": "execute_result",
          "data": {
            "text/plain": [
              "(1, 1380, 10)"
            ]
          },
          "metadata": {
            "tags": []
          },
          "execution_count": 106
        }
      ]
    },
    {
      "cell_type": "code",
      "metadata": {
        "colab": {
          "base_uri": "https://localhost:8080/"
        },
        "id": "w_7KQXMtgbQL",
        "outputId": "61e8ea16-439a-49cd-9b2f-adea138f2248"
      },
      "source": [
        "#train_y_arr.shape"
      ],
      "execution_count": 108,
      "outputs": [
        {
          "output_type": "execute_result",
          "data": {
            "text/plain": [
              "(1, 120, 10)"
            ]
          },
          "metadata": {
            "tags": []
          },
          "execution_count": 108
        }
      ]
    },
    {
      "cell_type": "code",
      "metadata": {
        "colab": {
          "base_uri": "https://localhost:8080/",
          "height": 35
        },
        "id": "VKlB9E_YfnhP",
        "outputId": "29c8dfbc-d85d-4687-9328-41b70fd2d319"
      },
      "source": [
        "'''\n",
        "Train_y.drop(['time','sample_id'], axis = 1, inplace=True)\n",
        "Train_y.shape\n",
        "'''"
      ],
      "execution_count": 107,
      "outputs": [
        {
          "output_type": "execute_result",
          "data": {
            "application/vnd.google.colaboratory.intrinsic+json": {
              "type": "string"
            },
            "text/plain": [
              "\"\\nTrain_y.drop(['time','sample_id'], axis = 1, inplace=True)\\nTrain_y.shape\\n\""
            ]
          },
          "metadata": {
            "tags": []
          },
          "execution_count": 107
        }
      ]
    },
    {
      "cell_type": "markdown",
      "metadata": {
        "id": "L6h57iJ5dRb9"
      },
      "source": [
        "#### lstm 적용"
      ]
    },
    {
      "cell_type": "code",
      "metadata": {
        "colab": {
          "base_uri": "https://localhost:8080/"
        },
        "id": "MZ-MIxAAdU15",
        "outputId": "5c6b16fa-e76f-4f20-c633-717b23cac20b"
      },
      "source": [
        "import keras\n",
        "from keras.layers import LSTM \n",
        "from keras.models import Sequential # 레이어를 선형으로 쌓는 모델\n",
        "from keras.layers import Dense # 완전 연결 레이어\n",
        "import keras.backend as K \n",
        "from keras.callbacks import EarlyStopping\n",
        "\n",
        "K.clear_session()\n",
        "    \n",
        "model = Sequential() # Sequeatial Model 객체 \n",
        "model.add(LSTM(40, input_shape=(1380, 10))) # (slot 수, feature 수) \n",
        "model.add(Dense(1, activation='relu')) \n",
        "model.compile(loss='mean_squared_error', optimizer='adam', metrics=['accuracy'])  \n",
        "model.summary() # 모델 내용 확인\n",
        "\n",
        "\n",
        "\n",
        "#optimizer: 'adam', 'sgd'\n",
        "#activation: 'sigmoid', 'relu'"
      ],
      "execution_count": 109,
      "outputs": [
        {
          "output_type": "stream",
          "text": [
            "Model: \"sequential\"\n",
            "_________________________________________________________________\n",
            "Layer (type)                 Output Shape              Param #   \n",
            "=================================================================\n",
            "lstm (LSTM)                  (None, 40)                8160      \n",
            "_________________________________________________________________\n",
            "dense (Dense)                (None, 1)                 41        \n",
            "=================================================================\n",
            "Total params: 8,201\n",
            "Trainable params: 8,201\n",
            "Non-trainable params: 0\n",
            "_________________________________________________________________\n"
          ],
          "name": "stdout"
        }
      ]
    },
    {
      "cell_type": "code",
      "metadata": {
        "colab": {
          "base_uri": "https://localhost:8080/"
        },
        "id": "Eh7fw50wdwMF",
        "outputId": "210869cf-c75b-49af-823c-cdb7c46cebf8"
      },
      "source": [
        "model.fit(train_x_arr, train_y_arr, epochs=300,\n",
        "          batch_size=120, verbose=1,validation_data=(val_x_arr, val_y_arr))"
      ],
      "execution_count": 110,
      "outputs": [
        {
          "output_type": "stream",
          "text": [
            "Epoch 1/300\n",
            "1/1 [==============================] - 2s 2s/step - loss: 1917061955584.0000 - accuracy: 0.0483 - val_loss: 15427746922496.0000 - val_accuracy: 0.0000e+00\n",
            "Epoch 2/300\n",
            "1/1 [==============================] - 0s 100ms/step - loss: 1917061955584.0000 - accuracy: 0.0483 - val_loss: 15427746922496.0000 - val_accuracy: 0.0000e+00\n",
            "Epoch 3/300\n",
            "1/1 [==============================] - 0s 100ms/step - loss: 1917061955584.0000 - accuracy: 0.0483 - val_loss: 15427746922496.0000 - val_accuracy: 0.0000e+00\n",
            "Epoch 4/300\n",
            "1/1 [==============================] - 0s 107ms/step - loss: 1917061955584.0000 - accuracy: 0.0483 - val_loss: 15427746922496.0000 - val_accuracy: 0.0000e+00\n",
            "Epoch 5/300\n",
            "1/1 [==============================] - 0s 92ms/step - loss: 1917061955584.0000 - accuracy: 0.0483 - val_loss: 15427746922496.0000 - val_accuracy: 0.0000e+00\n",
            "Epoch 6/300\n",
            "1/1 [==============================] - 0s 88ms/step - loss: 1917061955584.0000 - accuracy: 0.0483 - val_loss: 15427746922496.0000 - val_accuracy: 0.0050\n",
            "Epoch 7/300\n",
            "1/1 [==============================] - 0s 87ms/step - loss: 1917061955584.0000 - accuracy: 0.0483 - val_loss: 15427746922496.0000 - val_accuracy: 0.0050\n",
            "Epoch 8/300\n",
            "1/1 [==============================] - 0s 91ms/step - loss: 1917061955584.0000 - accuracy: 0.0483 - val_loss: 15427746922496.0000 - val_accuracy: 0.0050\n",
            "Epoch 9/300\n",
            "1/1 [==============================] - 0s 74ms/step - loss: 1917061824512.0000 - accuracy: 0.0050 - val_loss: 15427746922496.0000 - val_accuracy: 0.0050\n",
            "Epoch 10/300\n",
            "1/1 [==============================] - 0s 81ms/step - loss: 1917061824512.0000 - accuracy: 0.0050 - val_loss: 15427746922496.0000 - val_accuracy: 0.0050\n",
            "Epoch 11/300\n",
            "1/1 [==============================] - 0s 75ms/step - loss: 1917061824512.0000 - accuracy: 0.0050 - val_loss: 15427746922496.0000 - val_accuracy: 0.0050\n",
            "Epoch 12/300\n",
            "1/1 [==============================] - 0s 72ms/step - loss: 1917061824512.0000 - accuracy: 0.0050 - val_loss: 15427746922496.0000 - val_accuracy: 0.0050\n",
            "Epoch 13/300\n",
            "1/1 [==============================] - 0s 74ms/step - loss: 1917061824512.0000 - accuracy: 0.0050 - val_loss: 15427746922496.0000 - val_accuracy: 0.0000e+00\n",
            "Epoch 14/300\n",
            "1/1 [==============================] - 0s 84ms/step - loss: 1917061824512.0000 - accuracy: 0.0050 - val_loss: 15427746922496.0000 - val_accuracy: 0.0000e+00\n",
            "Epoch 15/300\n",
            "1/1 [==============================] - 0s 83ms/step - loss: 1917061824512.0000 - accuracy: 0.0050 - val_loss: 15427746922496.0000 - val_accuracy: 0.0000e+00\n",
            "Epoch 16/300\n",
            "1/1 [==============================] - 0s 76ms/step - loss: 1917061824512.0000 - accuracy: 0.0050 - val_loss: 15427746922496.0000 - val_accuracy: 0.0000e+00\n",
            "Epoch 17/300\n",
            "1/1 [==============================] - 0s 76ms/step - loss: 1917061824512.0000 - accuracy: 0.0050 - val_loss: 15427746922496.0000 - val_accuracy: 0.0000e+00\n",
            "Epoch 18/300\n",
            "1/1 [==============================] - 0s 73ms/step - loss: 1917061824512.0000 - accuracy: 0.0050 - val_loss: 15427746922496.0000 - val_accuracy: 0.0000e+00\n",
            "Epoch 19/300\n",
            "1/1 [==============================] - 0s 75ms/step - loss: 1917061824512.0000 - accuracy: 0.0050 - val_loss: 15427746922496.0000 - val_accuracy: 0.0000e+00\n",
            "Epoch 20/300\n",
            "1/1 [==============================] - 0s 84ms/step - loss: 1917061824512.0000 - accuracy: 0.0050 - val_loss: 15427746922496.0000 - val_accuracy: 0.0000e+00\n",
            "Epoch 21/300\n",
            "1/1 [==============================] - 0s 77ms/step - loss: 1917061824512.0000 - accuracy: 0.0050 - val_loss: 15427746922496.0000 - val_accuracy: 0.0000e+00\n",
            "Epoch 22/300\n",
            "1/1 [==============================] - 0s 74ms/step - loss: 1917061693440.0000 - accuracy: 0.0050 - val_loss: 15427746922496.0000 - val_accuracy: 0.0000e+00\n",
            "Epoch 23/300\n",
            "1/1 [==============================] - 0s 73ms/step - loss: 1917061693440.0000 - accuracy: 0.0050 - val_loss: 15427746922496.0000 - val_accuracy: 0.0000e+00\n",
            "Epoch 24/300\n",
            "1/1 [==============================] - 0s 72ms/step - loss: 1917061693440.0000 - accuracy: 0.0050 - val_loss: 15427746922496.0000 - val_accuracy: 0.0000e+00\n",
            "Epoch 25/300\n",
            "1/1 [==============================] - 0s 76ms/step - loss: 1917061693440.0000 - accuracy: 0.0050 - val_loss: 15427746922496.0000 - val_accuracy: 0.0000e+00\n",
            "Epoch 26/300\n",
            "1/1 [==============================] - 0s 74ms/step - loss: 1917061693440.0000 - accuracy: 0.0050 - val_loss: 15427746922496.0000 - val_accuracy: 0.0000e+00\n",
            "Epoch 27/300\n",
            "1/1 [==============================] - 0s 78ms/step - loss: 1917061693440.0000 - accuracy: 0.0050 - val_loss: 15427746922496.0000 - val_accuracy: 0.0000e+00\n",
            "Epoch 28/300\n",
            "1/1 [==============================] - 0s 76ms/step - loss: 1917061693440.0000 - accuracy: 0.0050 - val_loss: 15427746922496.0000 - val_accuracy: 0.0000e+00\n",
            "Epoch 29/300\n",
            "1/1 [==============================] - 0s 77ms/step - loss: 1917061693440.0000 - accuracy: 0.0050 - val_loss: 15427746922496.0000 - val_accuracy: 0.0000e+00\n",
            "Epoch 30/300\n",
            "1/1 [==============================] - 0s 74ms/step - loss: 1917061693440.0000 - accuracy: 0.0050 - val_loss: 15427746922496.0000 - val_accuracy: 0.0000e+00\n",
            "Epoch 31/300\n",
            "1/1 [==============================] - 0s 76ms/step - loss: 1917061693440.0000 - accuracy: 0.0050 - val_loss: 15427746922496.0000 - val_accuracy: 0.0000e+00\n",
            "Epoch 32/300\n",
            "1/1 [==============================] - 0s 76ms/step - loss: 1917061693440.0000 - accuracy: 0.0050 - val_loss: 15427746922496.0000 - val_accuracy: 0.0000e+00\n",
            "Epoch 33/300\n",
            "1/1 [==============================] - 0s 87ms/step - loss: 1917061693440.0000 - accuracy: 0.0050 - val_loss: 15427746922496.0000 - val_accuracy: 0.0000e+00\n",
            "Epoch 34/300\n",
            "1/1 [==============================] - 0s 77ms/step - loss: 1917061693440.0000 - accuracy: 0.0050 - val_loss: 15427746922496.0000 - val_accuracy: 0.0000e+00\n",
            "Epoch 35/300\n",
            "1/1 [==============================] - 0s 89ms/step - loss: 1917061693440.0000 - accuracy: 0.0050 - val_loss: 15427746922496.0000 - val_accuracy: 0.0000e+00\n",
            "Epoch 36/300\n",
            "1/1 [==============================] - 0s 75ms/step - loss: 1917061693440.0000 - accuracy: 0.0050 - val_loss: 15427746922496.0000 - val_accuracy: 0.0000e+00\n",
            "Epoch 37/300\n",
            "1/1 [==============================] - 0s 77ms/step - loss: 1917061693440.0000 - accuracy: 0.0050 - val_loss: 15427746922496.0000 - val_accuracy: 0.0000e+00\n",
            "Epoch 38/300\n",
            "1/1 [==============================] - 0s 73ms/step - loss: 1917061431296.0000 - accuracy: 0.0050 - val_loss: 15427746922496.0000 - val_accuracy: 0.0000e+00\n",
            "Epoch 39/300\n",
            "1/1 [==============================] - 0s 77ms/step - loss: 1917061431296.0000 - accuracy: 0.0050 - val_loss: 15427746922496.0000 - val_accuracy: 0.0000e+00\n",
            "Epoch 40/300\n",
            "1/1 [==============================] - 0s 80ms/step - loss: 1917061431296.0000 - accuracy: 0.0050 - val_loss: 15427746922496.0000 - val_accuracy: 0.0000e+00\n",
            "Epoch 41/300\n",
            "1/1 [==============================] - 0s 77ms/step - loss: 1917061431296.0000 - accuracy: 0.0050 - val_loss: 15427746922496.0000 - val_accuracy: 0.0000e+00\n",
            "Epoch 42/300\n",
            "1/1 [==============================] - 0s 76ms/step - loss: 1917061431296.0000 - accuracy: 0.0050 - val_loss: 15427746922496.0000 - val_accuracy: 0.0000e+00\n",
            "Epoch 43/300\n",
            "1/1 [==============================] - 0s 78ms/step - loss: 1917061431296.0000 - accuracy: 0.0050 - val_loss: 15427746922496.0000 - val_accuracy: 0.0000e+00\n",
            "Epoch 44/300\n",
            "1/1 [==============================] - 0s 77ms/step - loss: 1917061431296.0000 - accuracy: 0.0050 - val_loss: 15427746922496.0000 - val_accuracy: 0.0000e+00\n",
            "Epoch 45/300\n",
            "1/1 [==============================] - 0s 80ms/step - loss: 1917061431296.0000 - accuracy: 0.0050 - val_loss: 15427746922496.0000 - val_accuracy: 0.0000e+00\n",
            "Epoch 46/300\n",
            "1/1 [==============================] - 0s 78ms/step - loss: 1917061431296.0000 - accuracy: 0.0050 - val_loss: 15427746922496.0000 - val_accuracy: 0.0000e+00\n",
            "Epoch 47/300\n",
            "1/1 [==============================] - 0s 77ms/step - loss: 1917061431296.0000 - accuracy: 0.0050 - val_loss: 15427746922496.0000 - val_accuracy: 0.0000e+00\n",
            "Epoch 48/300\n",
            "1/1 [==============================] - 0s 74ms/step - loss: 1917061431296.0000 - accuracy: 0.0050 - val_loss: 15427746922496.0000 - val_accuracy: 0.0000e+00\n",
            "Epoch 49/300\n",
            "1/1 [==============================] - 0s 77ms/step - loss: 1917061431296.0000 - accuracy: 0.0050 - val_loss: 15427746922496.0000 - val_accuracy: 0.0000e+00\n",
            "Epoch 50/300\n",
            "1/1 [==============================] - 0s 72ms/step - loss: 1917061431296.0000 - accuracy: 0.0050 - val_loss: 15427746922496.0000 - val_accuracy: 0.0000e+00\n",
            "Epoch 51/300\n",
            "1/1 [==============================] - 0s 75ms/step - loss: 1917061431296.0000 - accuracy: 0.0050 - val_loss: 15427746922496.0000 - val_accuracy: 0.0000e+00\n",
            "Epoch 52/300\n",
            "1/1 [==============================] - 0s 78ms/step - loss: 1917061431296.0000 - accuracy: 0.0050 - val_loss: 15427746922496.0000 - val_accuracy: 0.0000e+00\n",
            "Epoch 53/300\n",
            "1/1 [==============================] - 0s 76ms/step - loss: 1917061431296.0000 - accuracy: 0.0050 - val_loss: 15427746922496.0000 - val_accuracy: 0.0000e+00\n",
            "Epoch 54/300\n",
            "1/1 [==============================] - 0s 73ms/step - loss: 1917061431296.0000 - accuracy: 0.0050 - val_loss: 15427746922496.0000 - val_accuracy: 0.0000e+00\n",
            "Epoch 55/300\n",
            "1/1 [==============================] - 0s 74ms/step - loss: 1917061431296.0000 - accuracy: 0.0050 - val_loss: 15427746922496.0000 - val_accuracy: 0.0000e+00\n",
            "Epoch 56/300\n",
            "1/1 [==============================] - 0s 78ms/step - loss: 1917061431296.0000 - accuracy: 0.0050 - val_loss: 15427746922496.0000 - val_accuracy: 0.0000e+00\n",
            "Epoch 57/300\n",
            "1/1 [==============================] - 0s 74ms/step - loss: 1917061431296.0000 - accuracy: 0.0050 - val_loss: 15427746922496.0000 - val_accuracy: 0.0000e+00\n",
            "Epoch 58/300\n",
            "1/1 [==============================] - 0s 84ms/step - loss: 1917061431296.0000 - accuracy: 0.0050 - val_loss: 15427746922496.0000 - val_accuracy: 0.0000e+00\n",
            "Epoch 59/300\n",
            "1/1 [==============================] - 0s 75ms/step - loss: 1917061431296.0000 - accuracy: 0.0050 - val_loss: 15427746922496.0000 - val_accuracy: 0.0000e+00\n",
            "Epoch 60/300\n",
            "1/1 [==============================] - 0s 78ms/step - loss: 1917061431296.0000 - accuracy: 0.0050 - val_loss: 15427746922496.0000 - val_accuracy: 0.0000e+00\n",
            "Epoch 61/300\n",
            "1/1 [==============================] - 0s 75ms/step - loss: 1917061431296.0000 - accuracy: 0.0050 - val_loss: 15427746922496.0000 - val_accuracy: 0.0000e+00\n",
            "Epoch 62/300\n",
            "1/1 [==============================] - 0s 75ms/step - loss: 1917061431296.0000 - accuracy: 0.0050 - val_loss: 15427746922496.0000 - val_accuracy: 0.0000e+00\n",
            "Epoch 63/300\n",
            "1/1 [==============================] - 0s 78ms/step - loss: 1917061431296.0000 - accuracy: 0.0050 - val_loss: 15427746922496.0000 - val_accuracy: 0.0000e+00\n",
            "Epoch 64/300\n",
            "1/1 [==============================] - 0s 74ms/step - loss: 1917061431296.0000 - accuracy: 0.0050 - val_loss: 15427746922496.0000 - val_accuracy: 0.0000e+00\n",
            "Epoch 65/300\n",
            "1/1 [==============================] - 0s 74ms/step - loss: 1917061300224.0000 - accuracy: 0.0050 - val_loss: 15427746922496.0000 - val_accuracy: 0.0000e+00\n",
            "Epoch 66/300\n",
            "1/1 [==============================] - 0s 73ms/step - loss: 1917061300224.0000 - accuracy: 0.0050 - val_loss: 15427746922496.0000 - val_accuracy: 0.0000e+00\n",
            "Epoch 67/300\n",
            "1/1 [==============================] - 0s 76ms/step - loss: 1917061300224.0000 - accuracy: 0.0050 - val_loss: 15427746922496.0000 - val_accuracy: 0.0000e+00\n",
            "Epoch 68/300\n",
            "1/1 [==============================] - 0s 84ms/step - loss: 1917061300224.0000 - accuracy: 0.0050 - val_loss: 15427746922496.0000 - val_accuracy: 0.0000e+00\n",
            "Epoch 69/300\n",
            "1/1 [==============================] - 0s 78ms/step - loss: 1917061300224.0000 - accuracy: 0.0050 - val_loss: 15427746922496.0000 - val_accuracy: 0.0000e+00\n",
            "Epoch 70/300\n",
            "1/1 [==============================] - 0s 84ms/step - loss: 1917061300224.0000 - accuracy: 0.0050 - val_loss: 15427746922496.0000 - val_accuracy: 0.0000e+00\n",
            "Epoch 71/300\n",
            "1/1 [==============================] - 0s 78ms/step - loss: 1917061300224.0000 - accuracy: 0.0050 - val_loss: 15427746922496.0000 - val_accuracy: 0.0000e+00\n",
            "Epoch 72/300\n",
            "1/1 [==============================] - 0s 77ms/step - loss: 1917061300224.0000 - accuracy: 0.0050 - val_loss: 15427746922496.0000 - val_accuracy: 0.0000e+00\n",
            "Epoch 73/300\n",
            "1/1 [==============================] - 0s 75ms/step - loss: 1917061300224.0000 - accuracy: 0.0050 - val_loss: 15427746922496.0000 - val_accuracy: 0.0000e+00\n",
            "Epoch 74/300\n",
            "1/1 [==============================] - 0s 75ms/step - loss: 1917061300224.0000 - accuracy: 0.0050 - val_loss: 15427746922496.0000 - val_accuracy: 0.0000e+00\n",
            "Epoch 75/300\n",
            "1/1 [==============================] - 0s 74ms/step - loss: 1917061300224.0000 - accuracy: 0.0050 - val_loss: 15427746922496.0000 - val_accuracy: 0.0000e+00\n",
            "Epoch 76/300\n",
            "1/1 [==============================] - 0s 74ms/step - loss: 1917061300224.0000 - accuracy: 0.0050 - val_loss: 15427746922496.0000 - val_accuracy: 0.0000e+00\n",
            "Epoch 77/300\n",
            "1/1 [==============================] - 0s 75ms/step - loss: 1917061300224.0000 - accuracy: 0.0050 - val_loss: 15427746922496.0000 - val_accuracy: 0.0000e+00\n",
            "Epoch 78/300\n",
            "1/1 [==============================] - 0s 77ms/step - loss: 1917061300224.0000 - accuracy: 0.0050 - val_loss: 15427746922496.0000 - val_accuracy: 0.0000e+00\n",
            "Epoch 79/300\n",
            "1/1 [==============================] - 0s 81ms/step - loss: 1917061300224.0000 - accuracy: 0.0050 - val_loss: 15427746922496.0000 - val_accuracy: 0.0000e+00\n",
            "Epoch 80/300\n",
            "1/1 [==============================] - 0s 79ms/step - loss: 1917061300224.0000 - accuracy: 0.0050 - val_loss: 15427746922496.0000 - val_accuracy: 0.0000e+00\n",
            "Epoch 81/300\n",
            "1/1 [==============================] - 0s 78ms/step - loss: 1917061300224.0000 - accuracy: 0.0050 - val_loss: 15427746922496.0000 - val_accuracy: 0.0000e+00\n",
            "Epoch 82/300\n",
            "1/1 [==============================] - 0s 78ms/step - loss: 1917061300224.0000 - accuracy: 0.0050 - val_loss: 15427746922496.0000 - val_accuracy: 0.0000e+00\n",
            "Epoch 83/300\n",
            "1/1 [==============================] - 0s 83ms/step - loss: 1917061300224.0000 - accuracy: 0.0050 - val_loss: 15427746922496.0000 - val_accuracy: 0.0000e+00\n",
            "Epoch 84/300\n",
            "1/1 [==============================] - 0s 77ms/step - loss: 1917061300224.0000 - accuracy: 0.0050 - val_loss: 15427746922496.0000 - val_accuracy: 0.0000e+00\n",
            "Epoch 85/300\n",
            "1/1 [==============================] - 0s 79ms/step - loss: 1917061300224.0000 - accuracy: 0.0050 - val_loss: 15427746922496.0000 - val_accuracy: 0.0000e+00\n",
            "Epoch 86/300\n",
            "1/1 [==============================] - 0s 82ms/step - loss: 1917061300224.0000 - accuracy: 0.0050 - val_loss: 15427746922496.0000 - val_accuracy: 0.0000e+00\n",
            "Epoch 87/300\n",
            "1/1 [==============================] - 0s 75ms/step - loss: 1917061300224.0000 - accuracy: 0.0050 - val_loss: 15427746922496.0000 - val_accuracy: 0.0000e+00\n",
            "Epoch 88/300\n",
            "1/1 [==============================] - 0s 78ms/step - loss: 1917061300224.0000 - accuracy: 0.0050 - val_loss: 15427746922496.0000 - val_accuracy: 0.0000e+00\n",
            "Epoch 89/300\n",
            "1/1 [==============================] - 0s 77ms/step - loss: 1917061300224.0000 - accuracy: 0.0050 - val_loss: 15427746922496.0000 - val_accuracy: 0.0000e+00\n",
            "Epoch 90/300\n",
            "1/1 [==============================] - 0s 73ms/step - loss: 1917061300224.0000 - accuracy: 0.0050 - val_loss: 15427746922496.0000 - val_accuracy: 0.0000e+00\n",
            "Epoch 91/300\n",
            "1/1 [==============================] - 0s 72ms/step - loss: 1917060907008.0000 - accuracy: 0.0050 - val_loss: 15427746922496.0000 - val_accuracy: 0.0000e+00\n",
            "Epoch 92/300\n",
            "1/1 [==============================] - 0s 74ms/step - loss: 1917060907008.0000 - accuracy: 0.0050 - val_loss: 15427746922496.0000 - val_accuracy: 0.0000e+00\n",
            "Epoch 93/300\n",
            "1/1 [==============================] - 0s 90ms/step - loss: 1917060907008.0000 - accuracy: 0.0050 - val_loss: 15427746922496.0000 - val_accuracy: 0.0000e+00\n",
            "Epoch 94/300\n",
            "1/1 [==============================] - 0s 78ms/step - loss: 1917060907008.0000 - accuracy: 0.0050 - val_loss: 15427746922496.0000 - val_accuracy: 0.0000e+00\n",
            "Epoch 95/300\n",
            "1/1 [==============================] - 0s 85ms/step - loss: 1917060907008.0000 - accuracy: 0.0050 - val_loss: 15427746922496.0000 - val_accuracy: 0.0000e+00\n",
            "Epoch 96/300\n",
            "1/1 [==============================] - 0s 77ms/step - loss: 1917060907008.0000 - accuracy: 0.0050 - val_loss: 15427745873920.0000 - val_accuracy: 0.0000e+00\n",
            "Epoch 97/300\n",
            "1/1 [==============================] - 0s 78ms/step - loss: 1917060907008.0000 - accuracy: 0.0050 - val_loss: 15427745873920.0000 - val_accuracy: 0.0000e+00\n",
            "Epoch 98/300\n",
            "1/1 [==============================] - 0s 77ms/step - loss: 1917060907008.0000 - accuracy: 0.0050 - val_loss: 15427745873920.0000 - val_accuracy: 0.0000e+00\n",
            "Epoch 99/300\n",
            "1/1 [==============================] - 0s 80ms/step - loss: 1917060907008.0000 - accuracy: 0.0050 - val_loss: 15427745873920.0000 - val_accuracy: 0.0000e+00\n",
            "Epoch 100/300\n",
            "1/1 [==============================] - 0s 81ms/step - loss: 1917060907008.0000 - accuracy: 0.0050 - val_loss: 15427745873920.0000 - val_accuracy: 0.0000e+00\n",
            "Epoch 101/300\n",
            "1/1 [==============================] - 0s 81ms/step - loss: 1917060907008.0000 - accuracy: 0.0050 - val_loss: 15427745873920.0000 - val_accuracy: 0.0000e+00\n",
            "Epoch 102/300\n",
            "1/1 [==============================] - 0s 79ms/step - loss: 1917060907008.0000 - accuracy: 0.0050 - val_loss: 15427745873920.0000 - val_accuracy: 0.0000e+00\n",
            "Epoch 103/300\n",
            "1/1 [==============================] - 0s 77ms/step - loss: 1917060907008.0000 - accuracy: 0.0050 - val_loss: 15427745873920.0000 - val_accuracy: 0.0000e+00\n",
            "Epoch 104/300\n",
            "1/1 [==============================] - 0s 80ms/step - loss: 1917060907008.0000 - accuracy: 0.0050 - val_loss: 15427745873920.0000 - val_accuracy: 0.0000e+00\n",
            "Epoch 105/300\n",
            "1/1 [==============================] - 0s 82ms/step - loss: 1917060907008.0000 - accuracy: 0.0050 - val_loss: 15427745873920.0000 - val_accuracy: 0.0000e+00\n",
            "Epoch 106/300\n",
            "1/1 [==============================] - 0s 81ms/step - loss: 1917060907008.0000 - accuracy: 0.0050 - val_loss: 15427745873920.0000 - val_accuracy: 0.0000e+00\n",
            "Epoch 107/300\n",
            "1/1 [==============================] - 0s 84ms/step - loss: 1917060907008.0000 - accuracy: 0.0050 - val_loss: 15427745873920.0000 - val_accuracy: 0.0000e+00\n",
            "Epoch 108/300\n",
            "1/1 [==============================] - 0s 81ms/step - loss: 1917060907008.0000 - accuracy: 0.0050 - val_loss: 15427745873920.0000 - val_accuracy: 0.0000e+00\n",
            "Epoch 109/300\n",
            "1/1 [==============================] - 0s 78ms/step - loss: 1917060907008.0000 - accuracy: 0.0050 - val_loss: 15427745873920.0000 - val_accuracy: 0.0000e+00\n",
            "Epoch 110/300\n",
            "1/1 [==============================] - 0s 88ms/step - loss: 1917060907008.0000 - accuracy: 0.0050 - val_loss: 15427745873920.0000 - val_accuracy: 0.0000e+00\n",
            "Epoch 111/300\n",
            "1/1 [==============================] - 0s 81ms/step - loss: 1917060907008.0000 - accuracy: 0.0050 - val_loss: 15427745873920.0000 - val_accuracy: 0.0000e+00\n",
            "Epoch 112/300\n",
            "1/1 [==============================] - 0s 81ms/step - loss: 1917060907008.0000 - accuracy: 0.0050 - val_loss: 15427745873920.0000 - val_accuracy: 0.0000e+00\n",
            "Epoch 113/300\n",
            "1/1 [==============================] - 0s 80ms/step - loss: 1917060907008.0000 - accuracy: 0.0050 - val_loss: 15427745873920.0000 - val_accuracy: 0.0000e+00\n",
            "Epoch 114/300\n",
            "1/1 [==============================] - 0s 76ms/step - loss: 1917060907008.0000 - accuracy: 0.0050 - val_loss: 15427745873920.0000 - val_accuracy: 0.0000e+00\n",
            "Epoch 115/300\n",
            "1/1 [==============================] - 0s 79ms/step - loss: 1917060907008.0000 - accuracy: 0.0050 - val_loss: 15427745873920.0000 - val_accuracy: 0.0000e+00\n",
            "Epoch 116/300\n",
            "1/1 [==============================] - 0s 82ms/step - loss: 1917060907008.0000 - accuracy: 0.0050 - val_loss: 15427744825344.0000 - val_accuracy: 0.0000e+00\n",
            "Epoch 117/300\n",
            "1/1 [==============================] - 0s 80ms/step - loss: 1917060907008.0000 - accuracy: 0.0050 - val_loss: 15427744825344.0000 - val_accuracy: 0.0000e+00\n",
            "Epoch 118/300\n",
            "1/1 [==============================] - 0s 77ms/step - loss: 1917060907008.0000 - accuracy: 0.0050 - val_loss: 15427744825344.0000 - val_accuracy: 0.0000e+00\n",
            "Epoch 119/300\n",
            "1/1 [==============================] - 0s 83ms/step - loss: 1917060907008.0000 - accuracy: 0.0050 - val_loss: 15427744825344.0000 - val_accuracy: 0.0000e+00\n",
            "Epoch 120/300\n",
            "1/1 [==============================] - 0s 79ms/step - loss: 1917060907008.0000 - accuracy: 0.0050 - val_loss: 15427744825344.0000 - val_accuracy: 0.0000e+00\n",
            "Epoch 121/300\n",
            "1/1 [==============================] - 0s 86ms/step - loss: 1917060907008.0000 - accuracy: 0.0050 - val_loss: 15427744825344.0000 - val_accuracy: 0.0000e+00\n",
            "Epoch 122/300\n",
            "1/1 [==============================] - 0s 79ms/step - loss: 1917060907008.0000 - accuracy: 0.0050 - val_loss: 15427744825344.0000 - val_accuracy: 0.0000e+00\n",
            "Epoch 123/300\n",
            "1/1 [==============================] - 0s 79ms/step - loss: 1917060775936.0000 - accuracy: 0.0050 - val_loss: 15427744825344.0000 - val_accuracy: 0.0000e+00\n",
            "Epoch 124/300\n",
            "1/1 [==============================] - 0s 78ms/step - loss: 1917060775936.0000 - accuracy: 0.0050 - val_loss: 15427744825344.0000 - val_accuracy: 0.0000e+00\n",
            "Epoch 125/300\n",
            "1/1 [==============================] - 0s 83ms/step - loss: 1917060775936.0000 - accuracy: 0.0050 - val_loss: 15427744825344.0000 - val_accuracy: 0.0000e+00\n",
            "Epoch 126/300\n",
            "1/1 [==============================] - 0s 82ms/step - loss: 1917060775936.0000 - accuracy: 0.0050 - val_loss: 15427744825344.0000 - val_accuracy: 0.0000e+00\n",
            "Epoch 127/300\n",
            "1/1 [==============================] - 0s 79ms/step - loss: 1917060644864.0000 - accuracy: 0.0050 - val_loss: 15427744825344.0000 - val_accuracy: 0.0000e+00\n",
            "Epoch 128/300\n",
            "1/1 [==============================] - 0s 75ms/step - loss: 1917060644864.0000 - accuracy: 0.0050 - val_loss: 15427744825344.0000 - val_accuracy: 0.0000e+00\n",
            "Epoch 129/300\n",
            "1/1 [==============================] - 0s 83ms/step - loss: 1917060644864.0000 - accuracy: 0.0050 - val_loss: 15427744825344.0000 - val_accuracy: 0.0000e+00\n",
            "Epoch 130/300\n",
            "1/1 [==============================] - 0s 84ms/step - loss: 1917060644864.0000 - accuracy: 0.0050 - val_loss: 15427744825344.0000 - val_accuracy: 0.0000e+00\n",
            "Epoch 131/300\n",
            "1/1 [==============================] - 0s 89ms/step - loss: 1917060644864.0000 - accuracy: 0.0050 - val_loss: 15427744825344.0000 - val_accuracy: 0.0000e+00\n",
            "Epoch 132/300\n",
            "1/1 [==============================] - 0s 78ms/step - loss: 1917060644864.0000 - accuracy: 0.0050 - val_loss: 15427744825344.0000 - val_accuracy: 0.0000e+00\n",
            "Epoch 133/300\n",
            "1/1 [==============================] - 0s 76ms/step - loss: 1917060644864.0000 - accuracy: 0.0050 - val_loss: 15427744825344.0000 - val_accuracy: 0.0000e+00\n",
            "Epoch 134/300\n",
            "1/1 [==============================] - 0s 83ms/step - loss: 1917060644864.0000 - accuracy: 0.0050 - val_loss: 15427744825344.0000 - val_accuracy: 0.0000e+00\n",
            "Epoch 135/300\n",
            "1/1 [==============================] - 0s 83ms/step - loss: 1917060644864.0000 - accuracy: 0.0050 - val_loss: 15427744825344.0000 - val_accuracy: 0.0000e+00\n",
            "Epoch 136/300\n",
            "1/1 [==============================] - 0s 80ms/step - loss: 1917060644864.0000 - accuracy: 0.0050 - val_loss: 15427744825344.0000 - val_accuracy: 0.0000e+00\n",
            "Epoch 137/300\n",
            "1/1 [==============================] - 0s 80ms/step - loss: 1917060644864.0000 - accuracy: 0.0050 - val_loss: 15427744825344.0000 - val_accuracy: 0.0000e+00\n",
            "Epoch 138/300\n",
            "1/1 [==============================] - 0s 95ms/step - loss: 1917060644864.0000 - accuracy: 0.0050 - val_loss: 15427744825344.0000 - val_accuracy: 0.0000e+00\n",
            "Epoch 139/300\n",
            "1/1 [==============================] - 0s 89ms/step - loss: 1917060644864.0000 - accuracy: 0.0050 - val_loss: 15427744825344.0000 - val_accuracy: 0.0000e+00\n",
            "Epoch 140/300\n",
            "1/1 [==============================] - 0s 87ms/step - loss: 1917060513792.0000 - accuracy: 0.0050 - val_loss: 15427744825344.0000 - val_accuracy: 0.0000e+00\n",
            "Epoch 141/300\n",
            "1/1 [==============================] - 0s 83ms/step - loss: 1917060513792.0000 - accuracy: 0.0050 - val_loss: 15427744825344.0000 - val_accuracy: 0.0000e+00\n",
            "Epoch 142/300\n",
            "1/1 [==============================] - 0s 90ms/step - loss: 1917060513792.0000 - accuracy: 0.0050 - val_loss: 15427744825344.0000 - val_accuracy: 0.0000e+00\n",
            "Epoch 143/300\n",
            "1/1 [==============================] - 0s 85ms/step - loss: 1917060513792.0000 - accuracy: 0.0050 - val_loss: 15427744825344.0000 - val_accuracy: 0.0000e+00\n",
            "Epoch 144/300\n",
            "1/1 [==============================] - 0s 81ms/step - loss: 1917060513792.0000 - accuracy: 0.0050 - val_loss: 15427744825344.0000 - val_accuracy: 0.0000e+00\n",
            "Epoch 145/300\n",
            "1/1 [==============================] - 0s 79ms/step - loss: 1917060513792.0000 - accuracy: 0.0050 - val_loss: 15427744825344.0000 - val_accuracy: 0.0000e+00\n",
            "Epoch 146/300\n",
            "1/1 [==============================] - 0s 84ms/step - loss: 1917060513792.0000 - accuracy: 0.0050 - val_loss: 15427744825344.0000 - val_accuracy: 0.0000e+00\n",
            "Epoch 147/300\n",
            "1/1 [==============================] - 0s 80ms/step - loss: 1917060513792.0000 - accuracy: 0.0050 - val_loss: 15427744825344.0000 - val_accuracy: 0.0000e+00\n",
            "Epoch 148/300\n",
            "1/1 [==============================] - 0s 79ms/step - loss: 1917060513792.0000 - accuracy: 0.0050 - val_loss: 15427744825344.0000 - val_accuracy: 0.0000e+00\n",
            "Epoch 149/300\n",
            "1/1 [==============================] - 0s 80ms/step - loss: 1917060513792.0000 - accuracy: 0.0050 - val_loss: 15427744825344.0000 - val_accuracy: 0.0000e+00\n",
            "Epoch 150/300\n",
            "1/1 [==============================] - 0s 84ms/step - loss: 1917060513792.0000 - accuracy: 0.0050 - val_loss: 15427744825344.0000 - val_accuracy: 0.0000e+00\n",
            "Epoch 151/300\n",
            "1/1 [==============================] - 0s 81ms/step - loss: 1917060513792.0000 - accuracy: 0.0050 - val_loss: 15427744825344.0000 - val_accuracy: 0.0000e+00\n",
            "Epoch 152/300\n",
            "1/1 [==============================] - 0s 80ms/step - loss: 1917060513792.0000 - accuracy: 0.0050 - val_loss: 15427744825344.0000 - val_accuracy: 0.0000e+00\n",
            "Epoch 153/300\n",
            "1/1 [==============================] - 0s 88ms/step - loss: 1917060513792.0000 - accuracy: 0.0050 - val_loss: 15427744825344.0000 - val_accuracy: 0.0000e+00\n",
            "Epoch 154/300\n",
            "1/1 [==============================] - 0s 84ms/step - loss: 1917060513792.0000 - accuracy: 0.0050 - val_loss: 15427744825344.0000 - val_accuracy: 0.0000e+00\n",
            "Epoch 155/300\n",
            "1/1 [==============================] - 0s 80ms/step - loss: 1917060513792.0000 - accuracy: 0.0050 - val_loss: 15427744825344.0000 - val_accuracy: 0.0000e+00\n",
            "Epoch 156/300\n",
            "1/1 [==============================] - 0s 79ms/step - loss: 1917060513792.0000 - accuracy: 0.0050 - val_loss: 15427744825344.0000 - val_accuracy: 0.0000e+00\n",
            "Epoch 157/300\n",
            "1/1 [==============================] - 0s 84ms/step - loss: 1917060513792.0000 - accuracy: 0.0050 - val_loss: 15427744825344.0000 - val_accuracy: 0.0000e+00\n",
            "Epoch 158/300\n",
            "1/1 [==============================] - 0s 83ms/step - loss: 1917060513792.0000 - accuracy: 0.0050 - val_loss: 15427743776768.0000 - val_accuracy: 0.0000e+00\n",
            "Epoch 159/300\n",
            "1/1 [==============================] - 0s 82ms/step - loss: 1917060513792.0000 - accuracy: 0.0050 - val_loss: 15427743776768.0000 - val_accuracy: 0.0000e+00\n",
            "Epoch 160/300\n",
            "1/1 [==============================] - 0s 78ms/step - loss: 1917060513792.0000 - accuracy: 0.0050 - val_loss: 15427743776768.0000 - val_accuracy: 0.0000e+00\n",
            "Epoch 161/300\n",
            "1/1 [==============================] - 0s 82ms/step - loss: 1917060513792.0000 - accuracy: 0.0050 - val_loss: 15427743776768.0000 - val_accuracy: 0.0000e+00\n",
            "Epoch 162/300\n",
            "1/1 [==============================] - 0s 80ms/step - loss: 1917060513792.0000 - accuracy: 0.0050 - val_loss: 15427743776768.0000 - val_accuracy: 0.0000e+00\n",
            "Epoch 163/300\n",
            "1/1 [==============================] - 0s 78ms/step - loss: 1917060513792.0000 - accuracy: 0.0050 - val_loss: 15427743776768.0000 - val_accuracy: 0.0000e+00\n",
            "Epoch 164/300\n",
            "1/1 [==============================] - 0s 78ms/step - loss: 1917060513792.0000 - accuracy: 0.0050 - val_loss: 15427743776768.0000 - val_accuracy: 0.0000e+00\n",
            "Epoch 165/300\n",
            "1/1 [==============================] - 0s 92ms/step - loss: 1917060513792.0000 - accuracy: 0.0050 - val_loss: 15427743776768.0000 - val_accuracy: 0.0000e+00\n",
            "Epoch 166/300\n",
            "1/1 [==============================] - 0s 81ms/step - loss: 1917060513792.0000 - accuracy: 0.0050 - val_loss: 15427743776768.0000 - val_accuracy: 0.0000e+00\n",
            "Epoch 167/300\n",
            "1/1 [==============================] - 0s 77ms/step - loss: 1917060513792.0000 - accuracy: 0.0050 - val_loss: 15427743776768.0000 - val_accuracy: 0.0000e+00\n",
            "Epoch 168/300\n",
            "1/1 [==============================] - 0s 78ms/step - loss: 1917060513792.0000 - accuracy: 0.0050 - val_loss: 15427743776768.0000 - val_accuracy: 0.0000e+00\n",
            "Epoch 169/300\n",
            "1/1 [==============================] - 0s 83ms/step - loss: 1917060513792.0000 - accuracy: 0.0050 - val_loss: 15427743776768.0000 - val_accuracy: 0.0000e+00\n",
            "Epoch 170/300\n",
            "1/1 [==============================] - 0s 86ms/step - loss: 1917060382720.0000 - accuracy: 0.0050 - val_loss: 15427743776768.0000 - val_accuracy: 0.0000e+00\n",
            "Epoch 171/300\n",
            "1/1 [==============================] - 0s 78ms/step - loss: 1917060382720.0000 - accuracy: 0.0050 - val_loss: 15427743776768.0000 - val_accuracy: 0.0000e+00\n",
            "Epoch 172/300\n",
            "1/1 [==============================] - 0s 78ms/step - loss: 1917060382720.0000 - accuracy: 0.0050 - val_loss: 15427743776768.0000 - val_accuracy: 0.0000e+00\n",
            "Epoch 173/300\n",
            "1/1 [==============================] - 0s 83ms/step - loss: 1917060382720.0000 - accuracy: 0.0050 - val_loss: 15427743776768.0000 - val_accuracy: 0.0000e+00\n",
            "Epoch 174/300\n",
            "1/1 [==============================] - 0s 78ms/step - loss: 1917060382720.0000 - accuracy: 0.0050 - val_loss: 15427743776768.0000 - val_accuracy: 0.0000e+00\n",
            "Epoch 175/300\n",
            "1/1 [==============================] - 0s 82ms/step - loss: 1917060382720.0000 - accuracy: 0.0050 - val_loss: 15427743776768.0000 - val_accuracy: 0.0000e+00\n",
            "Epoch 176/300\n",
            "1/1 [==============================] - 0s 84ms/step - loss: 1917060382720.0000 - accuracy: 0.0050 - val_loss: 15427743776768.0000 - val_accuracy: 0.0000e+00\n",
            "Epoch 177/300\n",
            "1/1 [==============================] - 0s 85ms/step - loss: 1917060382720.0000 - accuracy: 0.0050 - val_loss: 15427743776768.0000 - val_accuracy: 0.0000e+00\n",
            "Epoch 178/300\n",
            "1/1 [==============================] - 0s 77ms/step - loss: 1917060382720.0000 - accuracy: 0.0050 - val_loss: 15427743776768.0000 - val_accuracy: 0.0000e+00\n",
            "Epoch 179/300\n",
            "1/1 [==============================] - 0s 84ms/step - loss: 1917059989504.0000 - accuracy: 0.0050 - val_loss: 15427743776768.0000 - val_accuracy: 0.0000e+00\n",
            "Epoch 180/300\n",
            "1/1 [==============================] - 0s 85ms/step - loss: 1917059989504.0000 - accuracy: 0.0050 - val_loss: 15427743776768.0000 - val_accuracy: 0.0000e+00\n",
            "Epoch 181/300\n",
            "1/1 [==============================] - 0s 80ms/step - loss: 1917059989504.0000 - accuracy: 0.0050 - val_loss: 15427743776768.0000 - val_accuracy: 0.0000e+00\n",
            "Epoch 182/300\n",
            "1/1 [==============================] - 0s 82ms/step - loss: 1917059989504.0000 - accuracy: 0.0050 - val_loss: 15427743776768.0000 - val_accuracy: 0.0000e+00\n",
            "Epoch 183/300\n",
            "1/1 [==============================] - 0s 78ms/step - loss: 1917059989504.0000 - accuracy: 0.0050 - val_loss: 15427743776768.0000 - val_accuracy: 0.0000e+00\n",
            "Epoch 184/300\n",
            "1/1 [==============================] - 0s 83ms/step - loss: 1917059989504.0000 - accuracy: 0.0050 - val_loss: 15427743776768.0000 - val_accuracy: 0.0000e+00\n",
            "Epoch 185/300\n",
            "1/1 [==============================] - 0s 82ms/step - loss: 1917059989504.0000 - accuracy: 0.0050 - val_loss: 15427743776768.0000 - val_accuracy: 0.0000e+00\n",
            "Epoch 186/300\n",
            "1/1 [==============================] - 0s 78ms/step - loss: 1917059989504.0000 - accuracy: 0.0050 - val_loss: 15427743776768.0000 - val_accuracy: 0.0000e+00\n",
            "Epoch 187/300\n",
            "1/1 [==============================] - 0s 76ms/step - loss: 1917059989504.0000 - accuracy: 0.0050 - val_loss: 15427743776768.0000 - val_accuracy: 0.0000e+00\n",
            "Epoch 188/300\n",
            "1/1 [==============================] - 0s 75ms/step - loss: 1917059989504.0000 - accuracy: 0.0050 - val_loss: 15427743776768.0000 - val_accuracy: 0.0000e+00\n",
            "Epoch 189/300\n",
            "1/1 [==============================] - 0s 89ms/step - loss: 1917059989504.0000 - accuracy: 0.0050 - val_loss: 15427743776768.0000 - val_accuracy: 0.0000e+00\n",
            "Epoch 190/300\n",
            "1/1 [==============================] - 0s 75ms/step - loss: 1917059989504.0000 - accuracy: 0.0050 - val_loss: 15427743776768.0000 - val_accuracy: 0.0000e+00\n",
            "Epoch 191/300\n",
            "1/1 [==============================] - 0s 77ms/step - loss: 1917059989504.0000 - accuracy: 0.0050 - val_loss: 15427743776768.0000 - val_accuracy: 0.0000e+00\n",
            "Epoch 192/300\n",
            "1/1 [==============================] - 0s 82ms/step - loss: 1917059989504.0000 - accuracy: 0.0050 - val_loss: 15427743776768.0000 - val_accuracy: 0.0000e+00\n",
            "Epoch 193/300\n",
            "1/1 [==============================] - 0s 80ms/step - loss: 1917059989504.0000 - accuracy: 0.0050 - val_loss: 15427743776768.0000 - val_accuracy: 0.0000e+00\n",
            "Epoch 194/300\n",
            "1/1 [==============================] - 0s 80ms/step - loss: 1917059989504.0000 - accuracy: 0.0050 - val_loss: 15427743776768.0000 - val_accuracy: 0.0000e+00\n",
            "Epoch 195/300\n",
            "1/1 [==============================] - 0s 80ms/step - loss: 1917059989504.0000 - accuracy: 0.0050 - val_loss: 15427743776768.0000 - val_accuracy: 0.0000e+00\n",
            "Epoch 196/300\n",
            "1/1 [==============================] - 0s 81ms/step - loss: 1917059989504.0000 - accuracy: 0.0050 - val_loss: 15427743776768.0000 - val_accuracy: 0.0000e+00\n",
            "Epoch 197/300\n",
            "1/1 [==============================] - 0s 83ms/step - loss: 1917059989504.0000 - accuracy: 0.0050 - val_loss: 15427743776768.0000 - val_accuracy: 0.0000e+00\n",
            "Epoch 198/300\n",
            "1/1 [==============================] - 0s 81ms/step - loss: 1917059989504.0000 - accuracy: 0.0050 - val_loss: 15427743776768.0000 - val_accuracy: 0.0000e+00\n",
            "Epoch 199/300\n",
            "1/1 [==============================] - 0s 80ms/step - loss: 1917059989504.0000 - accuracy: 0.0050 - val_loss: 15427743776768.0000 - val_accuracy: 0.0000e+00\n",
            "Epoch 200/300\n",
            "1/1 [==============================] - 0s 85ms/step - loss: 1917059989504.0000 - accuracy: 0.0050 - val_loss: 15427743776768.0000 - val_accuracy: 0.0000e+00\n",
            "Epoch 201/300\n",
            "1/1 [==============================] - 0s 82ms/step - loss: 1917059858432.0000 - accuracy: 0.0050 - val_loss: 15427743776768.0000 - val_accuracy: 0.0000e+00\n",
            "Epoch 202/300\n",
            "1/1 [==============================] - 0s 83ms/step - loss: 1917059858432.0000 - accuracy: 0.0050 - val_loss: 15427743776768.0000 - val_accuracy: 0.0000e+00\n",
            "Epoch 203/300\n",
            "1/1 [==============================] - 0s 83ms/step - loss: 1917059858432.0000 - accuracy: 0.0050 - val_loss: 15427743776768.0000 - val_accuracy: 0.0000e+00\n",
            "Epoch 204/300\n",
            "1/1 [==============================] - 0s 80ms/step - loss: 1917059858432.0000 - accuracy: 0.0050 - val_loss: 15427743776768.0000 - val_accuracy: 0.0000e+00\n",
            "Epoch 205/300\n",
            "1/1 [==============================] - 0s 84ms/step - loss: 1917059858432.0000 - accuracy: 0.0050 - val_loss: 15427743776768.0000 - val_accuracy: 0.0000e+00\n",
            "Epoch 206/300\n",
            "1/1 [==============================] - 0s 79ms/step - loss: 1917059858432.0000 - accuracy: 0.0050 - val_loss: 15427743776768.0000 - val_accuracy: 0.0000e+00\n",
            "Epoch 207/300\n",
            "1/1 [==============================] - 0s 77ms/step - loss: 1917059858432.0000 - accuracy: 0.0050 - val_loss: 15427743776768.0000 - val_accuracy: 0.0000e+00\n",
            "Epoch 208/300\n",
            "1/1 [==============================] - 0s 82ms/step - loss: 1917059858432.0000 - accuracy: 0.0050 - val_loss: 15427743776768.0000 - val_accuracy: 0.0000e+00\n",
            "Epoch 209/300\n",
            "1/1 [==============================] - 0s 85ms/step - loss: 1917059858432.0000 - accuracy: 0.0050 - val_loss: 15427743776768.0000 - val_accuracy: 0.0000e+00\n",
            "Epoch 210/300\n",
            "1/1 [==============================] - 0s 79ms/step - loss: 1917059727360.0000 - accuracy: 0.0050 - val_loss: 15427743776768.0000 - val_accuracy: 0.0000e+00\n",
            "Epoch 211/300\n",
            "1/1 [==============================] - 0s 78ms/step - loss: 1917059727360.0000 - accuracy: 0.0050 - val_loss: 15427743776768.0000 - val_accuracy: 0.0000e+00\n",
            "Epoch 212/300\n",
            "1/1 [==============================] - 0s 81ms/step - loss: 1917059727360.0000 - accuracy: 0.0050 - val_loss: 15427743776768.0000 - val_accuracy: 0.0000e+00\n",
            "Epoch 213/300\n",
            "1/1 [==============================] - 0s 79ms/step - loss: 1917059727360.0000 - accuracy: 0.0050 - val_loss: 15427743776768.0000 - val_accuracy: 0.0000e+00\n",
            "Epoch 214/300\n",
            "1/1 [==============================] - 0s 83ms/step - loss: 1917059727360.0000 - accuracy: 0.0050 - val_loss: 15427743776768.0000 - val_accuracy: 0.0000e+00\n",
            "Epoch 215/300\n",
            "1/1 [==============================] - 0s 78ms/step - loss: 1917059727360.0000 - accuracy: 0.0050 - val_loss: 15427743776768.0000 - val_accuracy: 0.0000e+00\n",
            "Epoch 216/300\n",
            "1/1 [==============================] - 0s 79ms/step - loss: 1917059727360.0000 - accuracy: 0.0050 - val_loss: 15427743776768.0000 - val_accuracy: 0.0000e+00\n",
            "Epoch 217/300\n",
            "1/1 [==============================] - 0s 83ms/step - loss: 1917059727360.0000 - accuracy: 0.0050 - val_loss: 15427743776768.0000 - val_accuracy: 0.0000e+00\n",
            "Epoch 218/300\n",
            "1/1 [==============================] - 0s 78ms/step - loss: 1917059727360.0000 - accuracy: 0.0050 - val_loss: 15427743776768.0000 - val_accuracy: 0.0000e+00\n",
            "Epoch 219/300\n",
            "1/1 [==============================] - 0s 87ms/step - loss: 1917059596288.0000 - accuracy: 0.0050 - val_loss: 15427743776768.0000 - val_accuracy: 0.0000e+00\n",
            "Epoch 220/300\n",
            "1/1 [==============================] - 0s 82ms/step - loss: 1917059596288.0000 - accuracy: 0.0050 - val_loss: 15427743776768.0000 - val_accuracy: 0.0000e+00\n",
            "Epoch 221/300\n",
            "1/1 [==============================] - 0s 80ms/step - loss: 1917059596288.0000 - accuracy: 0.0050 - val_loss: 15427743776768.0000 - val_accuracy: 0.0000e+00\n",
            "Epoch 222/300\n",
            "1/1 [==============================] - 0s 88ms/step - loss: 1917059596288.0000 - accuracy: 0.0050 - val_loss: 15427743776768.0000 - val_accuracy: 0.0000e+00\n",
            "Epoch 223/300\n",
            "1/1 [==============================] - 0s 91ms/step - loss: 1917059596288.0000 - accuracy: 0.0050 - val_loss: 15427743776768.0000 - val_accuracy: 0.0000e+00\n",
            "Epoch 224/300\n",
            "1/1 [==============================] - 0s 89ms/step - loss: 1917059596288.0000 - accuracy: 0.0050 - val_loss: 15427743776768.0000 - val_accuracy: 0.0000e+00\n",
            "Epoch 225/300\n",
            "1/1 [==============================] - 0s 83ms/step - loss: 1917059596288.0000 - accuracy: 0.0050 - val_loss: 15427743776768.0000 - val_accuracy: 0.0000e+00\n",
            "Epoch 226/300\n",
            "1/1 [==============================] - 0s 79ms/step - loss: 1917059596288.0000 - accuracy: 0.0050 - val_loss: 15427743776768.0000 - val_accuracy: 0.0000e+00\n",
            "Epoch 227/300\n",
            "1/1 [==============================] - 0s 80ms/step - loss: 1917059596288.0000 - accuracy: 0.0050 - val_loss: 15427743776768.0000 - val_accuracy: 0.0000e+00\n",
            "Epoch 228/300\n",
            "1/1 [==============================] - 0s 87ms/step - loss: 1917059596288.0000 - accuracy: 0.0050 - val_loss: 15427743776768.0000 - val_accuracy: 0.0000e+00\n",
            "Epoch 229/300\n",
            "1/1 [==============================] - 0s 81ms/step - loss: 1917059596288.0000 - accuracy: 0.0050 - val_loss: 15427743776768.0000 - val_accuracy: 0.0000e+00\n",
            "Epoch 230/300\n",
            "1/1 [==============================] - 0s 83ms/step - loss: 1917059596288.0000 - accuracy: 0.0050 - val_loss: 15427743776768.0000 - val_accuracy: 0.0000e+00\n",
            "Epoch 231/300\n",
            "1/1 [==============================] - 0s 79ms/step - loss: 1917059596288.0000 - accuracy: 0.0050 - val_loss: 15427743776768.0000 - val_accuracy: 0.0000e+00\n",
            "Epoch 232/300\n",
            "1/1 [==============================] - 0s 81ms/step - loss: 1917059596288.0000 - accuracy: 0.0050 - val_loss: 15427743776768.0000 - val_accuracy: 0.0000e+00\n",
            "Epoch 233/300\n",
            "1/1 [==============================] - 0s 83ms/step - loss: 1917059596288.0000 - accuracy: 0.0050 - val_loss: 15427743776768.0000 - val_accuracy: 0.0000e+00\n",
            "Epoch 234/300\n",
            "1/1 [==============================] - 0s 83ms/step - loss: 1917059596288.0000 - accuracy: 0.0050 - val_loss: 15427743776768.0000 - val_accuracy: 0.0000e+00\n",
            "Epoch 235/300\n",
            "1/1 [==============================] - 0s 85ms/step - loss: 1917059596288.0000 - accuracy: 0.0050 - val_loss: 15427743776768.0000 - val_accuracy: 0.0000e+00\n",
            "Epoch 236/300\n",
            "1/1 [==============================] - 0s 77ms/step - loss: 1917059596288.0000 - accuracy: 0.0050 - val_loss: 15427743776768.0000 - val_accuracy: 0.0000e+00\n",
            "Epoch 237/300\n",
            "1/1 [==============================] - 0s 84ms/step - loss: 1917059596288.0000 - accuracy: 0.0050 - val_loss: 15427743776768.0000 - val_accuracy: 0.0000e+00\n",
            "Epoch 238/300\n",
            "1/1 [==============================] - 0s 84ms/step - loss: 1917059596288.0000 - accuracy: 0.0050 - val_loss: 15427743776768.0000 - val_accuracy: 0.0000e+00\n",
            "Epoch 239/300\n",
            "1/1 [==============================] - 0s 81ms/step - loss: 1917059596288.0000 - accuracy: 0.0050 - val_loss: 15427743776768.0000 - val_accuracy: 0.0000e+00\n",
            "Epoch 240/300\n",
            "1/1 [==============================] - 0s 80ms/step - loss: 1917059596288.0000 - accuracy: 0.0050 - val_loss: 15427743776768.0000 - val_accuracy: 0.0000e+00\n",
            "Epoch 241/300\n",
            "1/1 [==============================] - 0s 91ms/step - loss: 1917059596288.0000 - accuracy: 0.0050 - val_loss: 15427743776768.0000 - val_accuracy: 0.0000e+00\n",
            "Epoch 242/300\n",
            "1/1 [==============================] - 0s 85ms/step - loss: 1917059596288.0000 - accuracy: 0.0050 - val_loss: 15427743776768.0000 - val_accuracy: 0.0000e+00\n",
            "Epoch 243/300\n",
            "1/1 [==============================] - 0s 81ms/step - loss: 1917059596288.0000 - accuracy: 0.0050 - val_loss: 15427743776768.0000 - val_accuracy: 0.0000e+00\n",
            "Epoch 244/300\n",
            "1/1 [==============================] - 0s 83ms/step - loss: 1917059596288.0000 - accuracy: 0.0050 - val_loss: 15427743776768.0000 - val_accuracy: 0.0000e+00\n",
            "Epoch 245/300\n",
            "1/1 [==============================] - 0s 87ms/step - loss: 1917059596288.0000 - accuracy: 0.0050 - val_loss: 15427743776768.0000 - val_accuracy: 0.0000e+00\n",
            "Epoch 246/300\n",
            "1/1 [==============================] - 0s 86ms/step - loss: 1917059596288.0000 - accuracy: 0.0050 - val_loss: 15427743776768.0000 - val_accuracy: 0.0000e+00\n",
            "Epoch 247/300\n",
            "1/1 [==============================] - 0s 91ms/step - loss: 1917059596288.0000 - accuracy: 0.0050 - val_loss: 15427743776768.0000 - val_accuracy: 0.0000e+00\n",
            "Epoch 248/300\n",
            "1/1 [==============================] - 0s 82ms/step - loss: 1917059596288.0000 - accuracy: 0.0050 - val_loss: 15427743776768.0000 - val_accuracy: 0.0000e+00\n",
            "Epoch 249/300\n",
            "1/1 [==============================] - 0s 83ms/step - loss: 1917059596288.0000 - accuracy: 0.0050 - val_loss: 15427743776768.0000 - val_accuracy: 0.0000e+00\n",
            "Epoch 250/300\n",
            "1/1 [==============================] - 0s 81ms/step - loss: 1917059596288.0000 - accuracy: 0.0050 - val_loss: 15427743776768.0000 - val_accuracy: 0.0000e+00\n",
            "Epoch 251/300\n",
            "1/1 [==============================] - 0s 79ms/step - loss: 1917059596288.0000 - accuracy: 0.0050 - val_loss: 15427743776768.0000 - val_accuracy: 0.0000e+00\n",
            "Epoch 252/300\n",
            "1/1 [==============================] - 0s 83ms/step - loss: 1917059596288.0000 - accuracy: 0.0050 - val_loss: 15427743776768.0000 - val_accuracy: 0.0000e+00\n",
            "Epoch 253/300\n",
            "1/1 [==============================] - 0s 82ms/step - loss: 1917059596288.0000 - accuracy: 0.0050 - val_loss: 15427743776768.0000 - val_accuracy: 0.0000e+00\n",
            "Epoch 254/300\n",
            "1/1 [==============================] - 0s 85ms/step - loss: 1917059596288.0000 - accuracy: 0.0050 - val_loss: 15427743776768.0000 - val_accuracy: 0.0000e+00\n",
            "Epoch 255/300\n",
            "1/1 [==============================] - 0s 78ms/step - loss: 1917059596288.0000 - accuracy: 0.0050 - val_loss: 15427743776768.0000 - val_accuracy: 0.0000e+00\n",
            "Epoch 256/300\n",
            "1/1 [==============================] - 0s 81ms/step - loss: 1917059596288.0000 - accuracy: 0.0050 - val_loss: 15427743776768.0000 - val_accuracy: 0.0000e+00\n",
            "Epoch 257/300\n",
            "1/1 [==============================] - 0s 80ms/step - loss: 1917059596288.0000 - accuracy: 0.0050 - val_loss: 15427743776768.0000 - val_accuracy: 0.0000e+00\n",
            "Epoch 258/300\n",
            "1/1 [==============================] - 0s 87ms/step - loss: 1917059596288.0000 - accuracy: 0.0050 - val_loss: 15427743776768.0000 - val_accuracy: 0.0000e+00\n",
            "Epoch 259/300\n",
            "1/1 [==============================] - 0s 79ms/step - loss: 1917059596288.0000 - accuracy: 0.0050 - val_loss: 15427743776768.0000 - val_accuracy: 0.0000e+00\n",
            "Epoch 260/300\n",
            "1/1 [==============================] - 0s 80ms/step - loss: 1917059596288.0000 - accuracy: 0.0050 - val_loss: 15427743776768.0000 - val_accuracy: 0.0000e+00\n",
            "Epoch 261/300\n",
            "1/1 [==============================] - 0s 82ms/step - loss: 1917059596288.0000 - accuracy: 0.0050 - val_loss: 15427743776768.0000 - val_accuracy: 0.0000e+00\n",
            "Epoch 262/300\n",
            "1/1 [==============================] - 0s 86ms/step - loss: 1917059596288.0000 - accuracy: 0.0050 - val_loss: 15427743776768.0000 - val_accuracy: 0.0000e+00\n",
            "Epoch 263/300\n",
            "1/1 [==============================] - 0s 80ms/step - loss: 1917059596288.0000 - accuracy: 0.0050 - val_loss: 15427743776768.0000 - val_accuracy: 0.0000e+00\n",
            "Epoch 264/300\n",
            "1/1 [==============================] - 0s 77ms/step - loss: 1917059465216.0000 - accuracy: 0.0050 - val_loss: 15427743776768.0000 - val_accuracy: 0.0000e+00\n",
            "Epoch 265/300\n",
            "1/1 [==============================] - 0s 83ms/step - loss: 1917059465216.0000 - accuracy: 0.0050 - val_loss: 15427743776768.0000 - val_accuracy: 0.0000e+00\n",
            "Epoch 266/300\n",
            "1/1 [==============================] - 0s 85ms/step - loss: 1917059465216.0000 - accuracy: 0.0050 - val_loss: 15427743776768.0000 - val_accuracy: 0.0000e+00\n",
            "Epoch 267/300\n",
            "1/1 [==============================] - 0s 83ms/step - loss: 1917059465216.0000 - accuracy: 0.0050 - val_loss: 15427741679616.0000 - val_accuracy: 0.0000e+00\n",
            "Epoch 268/300\n",
            "1/1 [==============================] - 0s 79ms/step - loss: 1917059465216.0000 - accuracy: 0.0050 - val_loss: 15427741679616.0000 - val_accuracy: 0.0000e+00\n",
            "Epoch 269/300\n",
            "1/1 [==============================] - 0s 83ms/step - loss: 1917059465216.0000 - accuracy: 0.0050 - val_loss: 15427741679616.0000 - val_accuracy: 0.0000e+00\n",
            "Epoch 270/300\n",
            "1/1 [==============================] - 0s 88ms/step - loss: 1917059465216.0000 - accuracy: 0.0050 - val_loss: 15427741679616.0000 - val_accuracy: 0.0000e+00\n",
            "Epoch 271/300\n",
            "1/1 [==============================] - 0s 86ms/step - loss: 1917059465216.0000 - accuracy: 0.0050 - val_loss: 15427741679616.0000 - val_accuracy: 0.0000e+00\n",
            "Epoch 272/300\n",
            "1/1 [==============================] - 0s 81ms/step - loss: 1917059465216.0000 - accuracy: 0.0050 - val_loss: 15427741679616.0000 - val_accuracy: 0.0000e+00\n",
            "Epoch 273/300\n",
            "1/1 [==============================] - 0s 83ms/step - loss: 1917059334144.0000 - accuracy: 0.0050 - val_loss: 15427741679616.0000 - val_accuracy: 0.0000e+00\n",
            "Epoch 274/300\n",
            "1/1 [==============================] - 0s 86ms/step - loss: 1917059334144.0000 - accuracy: 0.0050 - val_loss: 15427741679616.0000 - val_accuracy: 0.0000e+00\n",
            "Epoch 275/300\n",
            "1/1 [==============================] - 0s 82ms/step - loss: 1917059334144.0000 - accuracy: 0.0050 - val_loss: 15427741679616.0000 - val_accuracy: 0.0000e+00\n",
            "Epoch 276/300\n",
            "1/1 [==============================] - 0s 84ms/step - loss: 1917059334144.0000 - accuracy: 0.0050 - val_loss: 15427741679616.0000 - val_accuracy: 0.0000e+00\n",
            "Epoch 277/300\n",
            "1/1 [==============================] - 0s 79ms/step - loss: 1917059334144.0000 - accuracy: 0.0050 - val_loss: 15427741679616.0000 - val_accuracy: 0.0000e+00\n",
            "Epoch 278/300\n",
            "1/1 [==============================] - 0s 84ms/step - loss: 1917059334144.0000 - accuracy: 0.0050 - val_loss: 15427741679616.0000 - val_accuracy: 0.0000e+00\n",
            "Epoch 279/300\n",
            "1/1 [==============================] - 0s 82ms/step - loss: 1917059334144.0000 - accuracy: 0.0050 - val_loss: 15427741679616.0000 - val_accuracy: 0.0000e+00\n",
            "Epoch 280/300\n",
            "1/1 [==============================] - 0s 80ms/step - loss: 1917059334144.0000 - accuracy: 0.0050 - val_loss: 15427741679616.0000 - val_accuracy: 0.0000e+00\n",
            "Epoch 281/300\n",
            "1/1 [==============================] - 0s 88ms/step - loss: 1917059334144.0000 - accuracy: 0.0050 - val_loss: 15427741679616.0000 - val_accuracy: 0.0000e+00\n",
            "Epoch 282/300\n",
            "1/1 [==============================] - 0s 81ms/step - loss: 1917059203072.0000 - accuracy: 0.0050 - val_loss: 15427741679616.0000 - val_accuracy: 0.0000e+00\n",
            "Epoch 283/300\n",
            "1/1 [==============================] - 0s 79ms/step - loss: 1917059203072.0000 - accuracy: 0.0050 - val_loss: 15427741679616.0000 - val_accuracy: 0.0000e+00\n",
            "Epoch 284/300\n",
            "1/1 [==============================] - 0s 82ms/step - loss: 1917059203072.0000 - accuracy: 0.0050 - val_loss: 15427741679616.0000 - val_accuracy: 0.0000e+00\n",
            "Epoch 285/300\n",
            "1/1 [==============================] - 0s 92ms/step - loss: 1917059203072.0000 - accuracy: 0.0050 - val_loss: 15427741679616.0000 - val_accuracy: 0.0000e+00\n",
            "Epoch 286/300\n",
            "1/1 [==============================] - 0s 86ms/step - loss: 1917059203072.0000 - accuracy: 0.0050 - val_loss: 15427741679616.0000 - val_accuracy: 0.0000e+00\n",
            "Epoch 287/300\n",
            "1/1 [==============================] - 0s 83ms/step - loss: 1917059203072.0000 - accuracy: 0.0050 - val_loss: 15427741679616.0000 - val_accuracy: 0.0000e+00\n",
            "Epoch 288/300\n",
            "1/1 [==============================] - 0s 81ms/step - loss: 1917059203072.0000 - accuracy: 0.0050 - val_loss: 15427741679616.0000 - val_accuracy: 0.0000e+00\n",
            "Epoch 289/300\n",
            "1/1 [==============================] - 0s 84ms/step - loss: 1917059203072.0000 - accuracy: 0.0050 - val_loss: 15427740631040.0000 - val_accuracy: 0.0000e+00\n",
            "Epoch 290/300\n",
            "1/1 [==============================] - 0s 86ms/step - loss: 1917059203072.0000 - accuracy: 0.0050 - val_loss: 15427740631040.0000 - val_accuracy: 0.0000e+00\n",
            "Epoch 291/300\n",
            "1/1 [==============================] - 0s 86ms/step - loss: 1917059203072.0000 - accuracy: 0.0050 - val_loss: 15427740631040.0000 - val_accuracy: 0.0000e+00\n",
            "Epoch 292/300\n",
            "1/1 [==============================] - 0s 81ms/step - loss: 1917059203072.0000 - accuracy: 0.0050 - val_loss: 15427740631040.0000 - val_accuracy: 0.0000e+00\n",
            "Epoch 293/300\n",
            "1/1 [==============================] - 0s 86ms/step - loss: 1917059203072.0000 - accuracy: 0.0050 - val_loss: 15427740631040.0000 - val_accuracy: 0.0000e+00\n",
            "Epoch 294/300\n",
            "1/1 [==============================] - 0s 81ms/step - loss: 1917059203072.0000 - accuracy: 0.0050 - val_loss: 15427740631040.0000 - val_accuracy: 0.0000e+00\n",
            "Epoch 295/300\n",
            "1/1 [==============================] - 0s 82ms/step - loss: 1917059203072.0000 - accuracy: 0.0050 - val_loss: 15427740631040.0000 - val_accuracy: 0.0000e+00\n",
            "Epoch 296/300\n",
            "1/1 [==============================] - 0s 82ms/step - loss: 1917059203072.0000 - accuracy: 0.0050 - val_loss: 15427740631040.0000 - val_accuracy: 0.0000e+00\n",
            "Epoch 297/300\n",
            "1/1 [==============================] - 0s 84ms/step - loss: 1917059203072.0000 - accuracy: 0.0050 - val_loss: 15427740631040.0000 - val_accuracy: 0.0000e+00\n",
            "Epoch 298/300\n",
            "1/1 [==============================] - 0s 83ms/step - loss: 1917059203072.0000 - accuracy: 0.0050 - val_loss: 15427740631040.0000 - val_accuracy: 0.0000e+00\n",
            "Epoch 299/300\n",
            "1/1 [==============================] - 0s 79ms/step - loss: 1917059203072.0000 - accuracy: 0.0050 - val_loss: 15427740631040.0000 - val_accuracy: 0.0000e+00\n",
            "Epoch 300/300\n",
            "1/1 [==============================] - 0s 81ms/step - loss: 1917059072000.0000 - accuracy: 0.0050 - val_loss: 15427740631040.0000 - val_accuracy: 0.0000e+00\n"
          ],
          "name": "stdout"
        },
        {
          "output_type": "execute_result",
          "data": {
            "text/plain": [
              "<tensorflow.python.keras.callbacks.History at 0x7fde16c9c450>"
            ]
          },
          "metadata": {
            "tags": []
          },
          "execution_count": 110
        }
      ]
    },
    {
      "cell_type": "markdown",
      "metadata": {
        "id": "CvhPf0uoet2y"
      },
      "source": [
        "#### test 데이터 예측"
      ]
    },
    {
      "cell_type": "code",
      "metadata": {
        "colab": {
          "base_uri": "https://localhost:8080/"
        },
        "id": "bDc6peaPeZr5",
        "outputId": "1ab6501c-0c3c-4a83-f7da-3180d1bb4fb6"
      },
      "source": [
        "y_pred = model.predict(test_x_arr, batch_size=120)\n",
        "\n",
        "y_pred"
      ],
      "execution_count": 82,
      "outputs": [
        {
          "output_type": "execute_result",
          "data": {
            "text/plain": [
              "array([[0.]], dtype=float32)"
            ]
          },
          "metadata": {
            "tags": []
          },
          "execution_count": 82
        }
      ]
    },
    {
      "cell_type": "code",
      "metadata": {
        "id": "oFoinG5Rew0-"
      },
      "source": [
        "plt.figure(figsize=(15,5))\n",
        "\n",
        "plt.plot(y_test, color='red', label='true')\n",
        "plt.plot(y_pred, color='blue', label='pred')"
      ],
      "execution_count": null,
      "outputs": []
    },
    {
      "cell_type": "markdown",
      "metadata": {
        "id": "uozalWYtSTRp"
      },
      "source": [
        "#### feature, label 정의"
      ]
    },
    {
      "cell_type": "code",
      "metadata": {
        "id": "L-pTlW48STRp"
      },
      "source": [
        "feature_cols = ['open', 'high', 'low', 'volume']\n",
        "label_cols = ['close']\n",
        "\n",
        "train_feature = train[feature_cols]\n",
        "train_label = train[label_cols]"
      ],
      "execution_count": 39,
      "outputs": []
    },
    {
      "cell_type": "markdown",
      "metadata": {
        "id": "ePG4Sm5ESTRp"
      },
      "source": [
        "#### window 사이즈 지정"
      ]
    },
    {
      "cell_type": "code",
      "metadata": {
        "id": "Yg_X5QkSSTRp"
      },
      "source": [
        "def make_dataset(data, label, window_size=20):\n",
        "    \n",
        "    feature_list = []\n",
        "    label_list = []\n",
        "    for i in range(len(data) - window_size):\n",
        "        feature_list.append(np.array(data.iloc[i:i+window_size]))\n",
        "        label_list.append(np.array(label.iloc[i+window_size]))\n",
        "        \n",
        "    return np.array(feature_list), np.array(label_list)"
      ],
      "execution_count": 40,
      "outputs": []
    },
    {
      "cell_type": "code",
      "metadata": {
        "id": "mRK-HBa_STRp"
      },
      "source": [
        "train_feature, train_label = make_dataset(train_feature, train_label, 20)"
      ],
      "execution_count": null,
      "outputs": []
    },
    {
      "cell_type": "code",
      "metadata": {
        "id": "tkomHud2STRp"
      },
      "source": [
        "x_train = train_feature\n",
        "y_train = train_label"
      ],
      "execution_count": null,
      "outputs": []
    },
    {
      "cell_type": "markdown",
      "metadata": {
        "id": "20eI1qDFSTRq"
      },
      "source": [
        "#### lstm 모델"
      ]
    },
    {
      "cell_type": "code",
      "metadata": {
        "id": "T6Csy9q7STRq"
      },
      "source": [
        "from keras.models import Sequential\n",
        "from keras.layers import Dense\n",
        "from keras.callbacks import EarlyStopping, ModelCheckpoint\n",
        "from keras.layers import LSTM\n",
        "\n",
        "model = Sequential()\n",
        "model.add(LSTM(16, \n",
        "               input_shape=(train_feature.shape[1], train_feature.shape[2]), \n",
        "               activation='relu', \n",
        "               return_sequences=False)\n",
        "          )\n",
        "model.add(Dense(1))"
      ],
      "execution_count": null,
      "outputs": []
    },
    {
      "cell_type": "code",
      "metadata": {
        "id": "6QLwzRIjSTRq"
      },
      "source": [
        "model.compile(loss='mean_squared_error', optimizer='adam')\n",
        "early_stop = EarlyStopping(monitor='val_loss', patience=5)\n",
        "filename = os.path.join(model_path, 'tmp_checkpoint.h5')\n",
        "checkpoint = ModelCheckpoint(filename, monitor='val_loss', verbose=1, save_best_only=True, mode='auto')\n",
        "\n",
        "history = model.fit(x_train, y_train, \n",
        "                    epochs=200, \n",
        "                    batch_size=16, \n",
        "                    callbacks=[early_stop, checkpoint])"
      ],
      "execution_count": null,
      "outputs": []
    },
    {
      "cell_type": "code",
      "metadata": {
        "id": "YsCdi5iPSTRq"
      },
      "source": [
        ""
      ],
      "execution_count": null,
      "outputs": []
    },
    {
      "cell_type": "markdown",
      "metadata": {
        "id": "EegddjY2STRr"
      },
      "source": [
        "# ++"
      ]
    },
    {
      "cell_type": "markdown",
      "metadata": {
        "id": "mesxy_aoSTRr"
      },
      "source": [
        "* open, close, low, high 공식..\n",
        "* tb_base_av, tb_quote_av 이해 안 감 ㅠ"
      ]
    },
    {
      "cell_type": "markdown",
      "metadata": {
        "id": "D3c4ysNhSTRr"
      },
      "source": [
        ""
      ]
    }
  ]
}